{
  "nbformat": 4,
  "nbformat_minor": 0,
  "metadata": {
    "accelerator": "GPU",
    "colab": {
      "name": "NLP_Project_Sarcasm_Detection_Questions-2.ipynb",
      "provenance": [],
      "collapsed_sections": []
    },
    "kernelspec": {
      "display_name": "Python 3",
      "language": "python",
      "name": "python3"
    },
    "language_info": {
      "codemirror_mode": {
        "name": "ipython",
        "version": 3
      },
      "file_extension": ".py",
      "mimetype": "text/x-python",
      "name": "python",
      "nbconvert_exporter": "python",
      "pygments_lexer": "ipython3",
      "version": "3.7.4"
    }
  },
  "cells": [
    {
      "cell_type": "markdown",
      "metadata": {
        "colab_type": "text",
        "id": "pp68FAQf9aMN"
      },
      "source": [
        "# Sarcasm Detection\n",
        " **Acknowledgement**\n",
        "\n",
        "Misra, Rishabh, and Prahal Arora. \"Sarcasm Detection using Hybrid Neural Network.\" arXiv preprint arXiv:1908.07414 (2019).\n",
        "\n",
        "**Required Files given in below link.**\n",
        "\n",
        "https://drive.google.com/drive/folders/1xUnF35naPGU63xwRDVGc-DkZ3M8V5mMk"
      ]
    },
    {
      "cell_type": "markdown",
      "metadata": {
        "colab_type": "text",
        "id": "S3Wj_mIZ8S3K"
      },
      "source": [
        "## Install `Tensorflow2.0` "
      ]
    },
    {
      "cell_type": "code",
      "metadata": {
        "colab_type": "code",
        "id": "jW2Uk8otQvi8",
        "outputId": "0ab47648-470d-4b86-d3ac-0b447b15a6a7",
        "colab": {
          "base_uri": "https://localhost:8080/",
          "height": 853
        }
      },
      "source": [
        "!!pip uninstall tensorflow\n",
        "!pip install tensorflow==2.0.0"
      ],
      "execution_count": 1,
      "outputs": [
        {
          "output_type": "stream",
          "text": [
            "Collecting tensorflow==2.0.0\n",
            "\u001b[?25l  Downloading https://files.pythonhosted.org/packages/46/0f/7bd55361168bb32796b360ad15a25de6966c9c1beb58a8e30c01c8279862/tensorflow-2.0.0-cp36-cp36m-manylinux2010_x86_64.whl (86.3MB)\n",
            "\u001b[K     |████████████████████████████████| 86.3MB 52kB/s \n",
            "\u001b[?25hRequirement already satisfied: six>=1.10.0 in /usr/local/lib/python3.6/dist-packages (from tensorflow==2.0.0) (1.12.0)\n",
            "Requirement already satisfied: google-pasta>=0.1.6 in /usr/local/lib/python3.6/dist-packages (from tensorflow==2.0.0) (0.1.8)\n",
            "Requirement already satisfied: numpy<2.0,>=1.16.0 in /usr/local/lib/python3.6/dist-packages (from tensorflow==2.0.0) (1.17.5)\n",
            "Collecting tensorflow-estimator<2.1.0,>=2.0.0\n",
            "\u001b[?25l  Downloading https://files.pythonhosted.org/packages/fc/08/8b927337b7019c374719145d1dceba21a8bb909b93b1ad6f8fb7d22c1ca1/tensorflow_estimator-2.0.1-py2.py3-none-any.whl (449kB)\n",
            "\u001b[K     |████████████████████████████████| 450kB 58.9MB/s \n",
            "\u001b[?25hRequirement already satisfied: wheel>=0.26 in /usr/local/lib/python3.6/dist-packages (from tensorflow==2.0.0) (0.34.2)\n",
            "Requirement already satisfied: wrapt>=1.11.1 in /usr/local/lib/python3.6/dist-packages (from tensorflow==2.0.0) (1.11.2)\n",
            "Requirement already satisfied: keras-preprocessing>=1.0.5 in /usr/local/lib/python3.6/dist-packages (from tensorflow==2.0.0) (1.1.0)\n",
            "Requirement already satisfied: grpcio>=1.8.6 in /usr/local/lib/python3.6/dist-packages (from tensorflow==2.0.0) (1.27.1)\n",
            "Collecting tensorboard<2.1.0,>=2.0.0\n",
            "\u001b[?25l  Downloading https://files.pythonhosted.org/packages/76/54/99b9d5d52d5cb732f099baaaf7740403e83fe6b0cedde940fabd2b13d75a/tensorboard-2.0.2-py3-none-any.whl (3.8MB)\n",
            "\u001b[K     |████████████████████████████████| 3.8MB 64.9MB/s \n",
            "\u001b[?25hRequirement already satisfied: protobuf>=3.6.1 in /usr/local/lib/python3.6/dist-packages (from tensorflow==2.0.0) (3.10.0)\n",
            "Requirement already satisfied: keras-applications>=1.0.8 in /usr/local/lib/python3.6/dist-packages (from tensorflow==2.0.0) (1.0.8)\n",
            "Requirement already satisfied: absl-py>=0.7.0 in /usr/local/lib/python3.6/dist-packages (from tensorflow==2.0.0) (0.9.0)\n",
            "Requirement already satisfied: gast==0.2.2 in /usr/local/lib/python3.6/dist-packages (from tensorflow==2.0.0) (0.2.2)\n",
            "Requirement already satisfied: astor>=0.6.0 in /usr/local/lib/python3.6/dist-packages (from tensorflow==2.0.0) (0.8.1)\n",
            "Requirement already satisfied: opt-einsum>=2.3.2 in /usr/local/lib/python3.6/dist-packages (from tensorflow==2.0.0) (3.1.0)\n",
            "Requirement already satisfied: termcolor>=1.1.0 in /usr/local/lib/python3.6/dist-packages (from tensorflow==2.0.0) (1.1.0)\n",
            "Requirement already satisfied: google-auth<2,>=1.6.3 in /usr/local/lib/python3.6/dist-packages (from tensorboard<2.1.0,>=2.0.0->tensorflow==2.0.0) (1.7.2)\n",
            "Requirement already satisfied: setuptools>=41.0.0 in /usr/local/lib/python3.6/dist-packages (from tensorboard<2.1.0,>=2.0.0->tensorflow==2.0.0) (45.1.0)\n",
            "Requirement already satisfied: requests<3,>=2.21.0 in /usr/local/lib/python3.6/dist-packages (from tensorboard<2.1.0,>=2.0.0->tensorflow==2.0.0) (2.21.0)\n",
            "Requirement already satisfied: google-auth-oauthlib<0.5,>=0.4.1 in /usr/local/lib/python3.6/dist-packages (from tensorboard<2.1.0,>=2.0.0->tensorflow==2.0.0) (0.4.1)\n",
            "Requirement already satisfied: markdown>=2.6.8 in /usr/local/lib/python3.6/dist-packages (from tensorboard<2.1.0,>=2.0.0->tensorflow==2.0.0) (3.2.1)\n",
            "Requirement already satisfied: werkzeug>=0.11.15 in /usr/local/lib/python3.6/dist-packages (from tensorboard<2.1.0,>=2.0.0->tensorflow==2.0.0) (1.0.0)\n",
            "Requirement already satisfied: h5py in /usr/local/lib/python3.6/dist-packages (from keras-applications>=1.0.8->tensorflow==2.0.0) (2.8.0)\n",
            "Requirement already satisfied: cachetools<3.2,>=2.0.0 in /usr/local/lib/python3.6/dist-packages (from google-auth<2,>=1.6.3->tensorboard<2.1.0,>=2.0.0->tensorflow==2.0.0) (3.1.1)\n",
            "Requirement already satisfied: pyasn1-modules>=0.2.1 in /usr/local/lib/python3.6/dist-packages (from google-auth<2,>=1.6.3->tensorboard<2.1.0,>=2.0.0->tensorflow==2.0.0) (0.2.8)\n",
            "Requirement already satisfied: rsa<4.1,>=3.1.4 in /usr/local/lib/python3.6/dist-packages (from google-auth<2,>=1.6.3->tensorboard<2.1.0,>=2.0.0->tensorflow==2.0.0) (4.0)\n",
            "Requirement already satisfied: urllib3<1.25,>=1.21.1 in /usr/local/lib/python3.6/dist-packages (from requests<3,>=2.21.0->tensorboard<2.1.0,>=2.0.0->tensorflow==2.0.0) (1.24.3)\n",
            "Requirement already satisfied: certifi>=2017.4.17 in /usr/local/lib/python3.6/dist-packages (from requests<3,>=2.21.0->tensorboard<2.1.0,>=2.0.0->tensorflow==2.0.0) (2019.11.28)\n",
            "Requirement already satisfied: idna<2.9,>=2.5 in /usr/local/lib/python3.6/dist-packages (from requests<3,>=2.21.0->tensorboard<2.1.0,>=2.0.0->tensorflow==2.0.0) (2.8)\n",
            "Requirement already satisfied: chardet<3.1.0,>=3.0.2 in /usr/local/lib/python3.6/dist-packages (from requests<3,>=2.21.0->tensorboard<2.1.0,>=2.0.0->tensorflow==2.0.0) (3.0.4)\n",
            "Requirement already satisfied: requests-oauthlib>=0.7.0 in /usr/local/lib/python3.6/dist-packages (from google-auth-oauthlib<0.5,>=0.4.1->tensorboard<2.1.0,>=2.0.0->tensorflow==2.0.0) (1.3.0)\n",
            "Requirement already satisfied: pyasn1<0.5.0,>=0.4.6 in /usr/local/lib/python3.6/dist-packages (from pyasn1-modules>=0.2.1->google-auth<2,>=1.6.3->tensorboard<2.1.0,>=2.0.0->tensorflow==2.0.0) (0.4.8)\n",
            "Requirement already satisfied: oauthlib>=3.0.0 in /usr/local/lib/python3.6/dist-packages (from requests-oauthlib>=0.7.0->google-auth-oauthlib<0.5,>=0.4.1->tensorboard<2.1.0,>=2.0.0->tensorflow==2.0.0) (3.1.0)\n",
            "Installing collected packages: tensorflow-estimator, tensorboard, tensorflow\n",
            "  Found existing installation: tensorflow-estimator 1.15.1\n",
            "    Uninstalling tensorflow-estimator-1.15.1:\n",
            "      Successfully uninstalled tensorflow-estimator-1.15.1\n",
            "  Found existing installation: tensorboard 1.15.0\n",
            "    Uninstalling tensorboard-1.15.0:\n",
            "      Successfully uninstalled tensorboard-1.15.0\n",
            "Successfully installed tensorboard-2.0.2 tensorflow-2.0.0 tensorflow-estimator-2.0.1\n"
          ],
          "name": "stdout"
        }
      ]
    },
    {
      "cell_type": "markdown",
      "metadata": {
        "colab_type": "text",
        "id": "v9kv9tyJ77eF"
      },
      "source": [
        "## Get Required Files from Drive"
      ]
    },
    {
      "cell_type": "code",
      "metadata": {
        "colab_type": "code",
        "id": "D0O_n6OIEVyL",
        "outputId": "1777eb4a-9377-4fd0-e0b6-04292022a900",
        "colab": {
          "base_uri": "https://localhost:8080/",
          "height": 122
        }
      },
      "source": [
        "from google.colab import drive\n",
        "drive.mount('/content/drive/')"
      ],
      "execution_count": 2,
      "outputs": [
        {
          "output_type": "stream",
          "text": [
            "Go to this URL in a browser: https://accounts.google.com/o/oauth2/auth?client_id=947318989803-6bn6qk8qdgf4n4g3pfee6491hc0brc4i.apps.googleusercontent.com&redirect_uri=urn%3aietf%3awg%3aoauth%3a2.0%3aoob&response_type=code&scope=email%20https%3a%2f%2fwww.googleapis.com%2fauth%2fdocs.test%20https%3a%2f%2fwww.googleapis.com%2fauth%2fdrive%20https%3a%2f%2fwww.googleapis.com%2fauth%2fdrive.photos.readonly%20https%3a%2f%2fwww.googleapis.com%2fauth%2fpeopleapi.readonly\n",
            "\n",
            "Enter your authorization code:\n",
            "··········\n",
            "Mounted at /content/drive/\n"
          ],
          "name": "stdout"
        }
      ]
    },
    {
      "cell_type": "code",
      "metadata": {
        "colab_type": "code",
        "id": "0mgRpOvFMjKR",
        "colab": {}
      },
      "source": [
        "#Set your project path \n",
        "import os\n",
        "project_path =  \"/content/drive/My Drive/AIML/NLP/\"\n",
        "os.chdir(project_path)"
      ],
      "execution_count": 0,
      "outputs": []
    },
    {
      "cell_type": "markdown",
      "metadata": {
        "colab_type": "text",
        "id": "WXYwajPeQbRq"
      },
      "source": [
        "#**## Reading and Exploring Data**"
      ]
    },
    {
      "cell_type": "markdown",
      "metadata": {
        "colab_type": "text",
        "id": "vAk6BRUh8CqL"
      },
      "source": [
        "## Read Data \"Sarcasm_Headlines_Dataset.json\". Explore the data and get  some insights about the data. ( 8 marks)\n",
        "Hint - As its in json format you need to use pandas.read_json function. Give paraemeter lines = True."
      ]
    },
    {
      "cell_type": "code",
      "metadata": {
        "id": "QSdPcoMINkVH",
        "colab_type": "code",
        "colab": {}
      },
      "source": [
        "import pandas as pd"
      ],
      "execution_count": 0,
      "outputs": []
    },
    {
      "cell_type": "code",
      "metadata": {
        "colab_type": "code",
        "id": "StSLB-T8PuGr",
        "outputId": "d1495b92-fa21-4d83-86a2-25bb9be66ce1",
        "colab": {
          "base_uri": "https://localhost:8080/",
          "height": 204
        }
      },
      "source": [
        "df = pd.read_json(\"Sarcasm_Headlines_Dataset.json\", lines=True)\n",
        "df.head()"
      ],
      "execution_count": 5,
      "outputs": [
        {
          "output_type": "execute_result",
          "data": {
            "text/html": [
              "<div>\n",
              "<style scoped>\n",
              "    .dataframe tbody tr th:only-of-type {\n",
              "        vertical-align: middle;\n",
              "    }\n",
              "\n",
              "    .dataframe tbody tr th {\n",
              "        vertical-align: top;\n",
              "    }\n",
              "\n",
              "    .dataframe thead th {\n",
              "        text-align: right;\n",
              "    }\n",
              "</style>\n",
              "<table border=\"1\" class=\"dataframe\">\n",
              "  <thead>\n",
              "    <tr style=\"text-align: right;\">\n",
              "      <th></th>\n",
              "      <th>is_sarcastic</th>\n",
              "      <th>headline</th>\n",
              "      <th>article_link</th>\n",
              "    </tr>\n",
              "  </thead>\n",
              "  <tbody>\n",
              "    <tr>\n",
              "      <th>0</th>\n",
              "      <td>1</td>\n",
              "      <td>thirtysomething scientists unveil doomsday clo...</td>\n",
              "      <td>https://www.theonion.com/thirtysomething-scien...</td>\n",
              "    </tr>\n",
              "    <tr>\n",
              "      <th>1</th>\n",
              "      <td>0</td>\n",
              "      <td>dem rep. totally nails why congress is falling...</td>\n",
              "      <td>https://www.huffingtonpost.com/entry/donna-edw...</td>\n",
              "    </tr>\n",
              "    <tr>\n",
              "      <th>2</th>\n",
              "      <td>0</td>\n",
              "      <td>eat your veggies: 9 deliciously different recipes</td>\n",
              "      <td>https://www.huffingtonpost.com/entry/eat-your-...</td>\n",
              "    </tr>\n",
              "    <tr>\n",
              "      <th>3</th>\n",
              "      <td>1</td>\n",
              "      <td>inclement weather prevents liar from getting t...</td>\n",
              "      <td>https://local.theonion.com/inclement-weather-p...</td>\n",
              "    </tr>\n",
              "    <tr>\n",
              "      <th>4</th>\n",
              "      <td>1</td>\n",
              "      <td>mother comes pretty close to using word 'strea...</td>\n",
              "      <td>https://www.theonion.com/mother-comes-pretty-c...</td>\n",
              "    </tr>\n",
              "  </tbody>\n",
              "</table>\n",
              "</div>"
            ],
            "text/plain": [
              "   is_sarcastic  ...                                       article_link\n",
              "0             1  ...  https://www.theonion.com/thirtysomething-scien...\n",
              "1             0  ...  https://www.huffingtonpost.com/entry/donna-edw...\n",
              "2             0  ...  https://www.huffingtonpost.com/entry/eat-your-...\n",
              "3             1  ...  https://local.theonion.com/inclement-weather-p...\n",
              "4             1  ...  https://www.theonion.com/mother-comes-pretty-c...\n",
              "\n",
              "[5 rows x 3 columns]"
            ]
          },
          "metadata": {
            "tags": []
          },
          "execution_count": 5
        }
      ]
    },
    {
      "cell_type": "markdown",
      "metadata": {
        "colab_type": "text",
        "id": "z6pXf7A78E2H"
      },
      "source": [
        "## Drop `article_link` from dataset. ( 4 marks)\n",
        "As we only need headline text data and is_sarcastic column for this project. We can drop artical link column here."
      ]
    },
    {
      "cell_type": "code",
      "metadata": {
        "colab_type": "code",
        "id": "VLSVsvrlP9qD",
        "outputId": "42d99537-80b0-4109-e0d3-d12e878e6d79",
        "colab": {
          "base_uri": "https://localhost:8080/",
          "height": 204
        }
      },
      "source": [
        "df = df.drop(['article_link'], axis=1)\n",
        "df.head()"
      ],
      "execution_count": 6,
      "outputs": [
        {
          "output_type": "execute_result",
          "data": {
            "text/html": [
              "<div>\n",
              "<style scoped>\n",
              "    .dataframe tbody tr th:only-of-type {\n",
              "        vertical-align: middle;\n",
              "    }\n",
              "\n",
              "    .dataframe tbody tr th {\n",
              "        vertical-align: top;\n",
              "    }\n",
              "\n",
              "    .dataframe thead th {\n",
              "        text-align: right;\n",
              "    }\n",
              "</style>\n",
              "<table border=\"1\" class=\"dataframe\">\n",
              "  <thead>\n",
              "    <tr style=\"text-align: right;\">\n",
              "      <th></th>\n",
              "      <th>is_sarcastic</th>\n",
              "      <th>headline</th>\n",
              "    </tr>\n",
              "  </thead>\n",
              "  <tbody>\n",
              "    <tr>\n",
              "      <th>0</th>\n",
              "      <td>1</td>\n",
              "      <td>thirtysomething scientists unveil doomsday clo...</td>\n",
              "    </tr>\n",
              "    <tr>\n",
              "      <th>1</th>\n",
              "      <td>0</td>\n",
              "      <td>dem rep. totally nails why congress is falling...</td>\n",
              "    </tr>\n",
              "    <tr>\n",
              "      <th>2</th>\n",
              "      <td>0</td>\n",
              "      <td>eat your veggies: 9 deliciously different recipes</td>\n",
              "    </tr>\n",
              "    <tr>\n",
              "      <th>3</th>\n",
              "      <td>1</td>\n",
              "      <td>inclement weather prevents liar from getting t...</td>\n",
              "    </tr>\n",
              "    <tr>\n",
              "      <th>4</th>\n",
              "      <td>1</td>\n",
              "      <td>mother comes pretty close to using word 'strea...</td>\n",
              "    </tr>\n",
              "  </tbody>\n",
              "</table>\n",
              "</div>"
            ],
            "text/plain": [
              "   is_sarcastic                                           headline\n",
              "0             1  thirtysomething scientists unveil doomsday clo...\n",
              "1             0  dem rep. totally nails why congress is falling...\n",
              "2             0  eat your veggies: 9 deliciously different recipes\n",
              "3             1  inclement weather prevents liar from getting t...\n",
              "4             1  mother comes pretty close to using word 'strea..."
            ]
          },
          "metadata": {
            "tags": []
          },
          "execution_count": 6
        }
      ]
    },
    {
      "cell_type": "markdown",
      "metadata": {
        "colab_type": "text",
        "id": "D0h6IOxU8OdH"
      },
      "source": [
        "## Get the Length of each line and find the maximum length. ( 8 marks)\n",
        "As different lines are of different length. We need to pad the our sequences using the max length."
      ]
    },
    {
      "cell_type": "code",
      "metadata": {
        "colab_type": "code",
        "id": "BRAsChZAQmr3",
        "outputId": "d3c9f703-6ff3-4f87-9aac-27c887a02c4d",
        "colab": {
          "base_uri": "https://localhost:8080/",
          "height": 204
        }
      },
      "source": [
        "df['length'] = df['headline'].apply(lambda x: len(x.split(\" \")))\n",
        "df.head()"
      ],
      "execution_count": 7,
      "outputs": [
        {
          "output_type": "execute_result",
          "data": {
            "text/html": [
              "<div>\n",
              "<style scoped>\n",
              "    .dataframe tbody tr th:only-of-type {\n",
              "        vertical-align: middle;\n",
              "    }\n",
              "\n",
              "    .dataframe tbody tr th {\n",
              "        vertical-align: top;\n",
              "    }\n",
              "\n",
              "    .dataframe thead th {\n",
              "        text-align: right;\n",
              "    }\n",
              "</style>\n",
              "<table border=\"1\" class=\"dataframe\">\n",
              "  <thead>\n",
              "    <tr style=\"text-align: right;\">\n",
              "      <th></th>\n",
              "      <th>is_sarcastic</th>\n",
              "      <th>headline</th>\n",
              "      <th>length</th>\n",
              "    </tr>\n",
              "  </thead>\n",
              "  <tbody>\n",
              "    <tr>\n",
              "      <th>0</th>\n",
              "      <td>1</td>\n",
              "      <td>thirtysomething scientists unveil doomsday clo...</td>\n",
              "      <td>8</td>\n",
              "    </tr>\n",
              "    <tr>\n",
              "      <th>1</th>\n",
              "      <td>0</td>\n",
              "      <td>dem rep. totally nails why congress is falling...</td>\n",
              "      <td>13</td>\n",
              "    </tr>\n",
              "    <tr>\n",
              "      <th>2</th>\n",
              "      <td>0</td>\n",
              "      <td>eat your veggies: 9 deliciously different recipes</td>\n",
              "      <td>7</td>\n",
              "    </tr>\n",
              "    <tr>\n",
              "      <th>3</th>\n",
              "      <td>1</td>\n",
              "      <td>inclement weather prevents liar from getting t...</td>\n",
              "      <td>8</td>\n",
              "    </tr>\n",
              "    <tr>\n",
              "      <th>4</th>\n",
              "      <td>1</td>\n",
              "      <td>mother comes pretty close to using word 'strea...</td>\n",
              "      <td>9</td>\n",
              "    </tr>\n",
              "  </tbody>\n",
              "</table>\n",
              "</div>"
            ],
            "text/plain": [
              "   is_sarcastic                                           headline  length\n",
              "0             1  thirtysomething scientists unveil doomsday clo...       8\n",
              "1             0  dem rep. totally nails why congress is falling...      13\n",
              "2             0  eat your veggies: 9 deliciously different recipes       7\n",
              "3             1  inclement weather prevents liar from getting t...       8\n",
              "4             1  mother comes pretty close to using word 'strea...       9"
            ]
          },
          "metadata": {
            "tags": []
          },
          "execution_count": 7
        }
      ]
    },
    {
      "cell_type": "code",
      "metadata": {
        "id": "w8QViVUosw7l",
        "colab_type": "code",
        "outputId": "1022ca29-63d7-43c4-c80b-026bc304266a",
        "colab": {
          "base_uri": "https://localhost:8080/",
          "height": 34
        }
      },
      "source": [
        "print(f\"Maximun line length {max(df['length'])}\")"
      ],
      "execution_count": 8,
      "outputs": [
        {
          "output_type": "stream",
          "text": [
            "Maximun line length 151\n"
          ],
          "name": "stdout"
        }
      ]
    },
    {
      "cell_type": "markdown",
      "metadata": {
        "colab_type": "text",
        "id": "VPPd0YuPXi2M"
      },
      "source": [
        "#**## Modelling**"
      ]
    },
    {
      "cell_type": "markdown",
      "metadata": {
        "colab_type": "text",
        "id": "35abKfRx8as3"
      },
      "source": [
        "## Import required modules required for modelling."
      ]
    },
    {
      "cell_type": "code",
      "metadata": {
        "colab_type": "code",
        "id": "DVel73hYEV4r",
        "colab": {}
      },
      "source": [
        "import numpy as np\n",
        "from tensorflow.keras.preprocessing.text import Tokenizer\n",
        "from tensorflow.keras.preprocessing.sequence import pad_sequences\n",
        "from tensorflow.keras.layers import Dense, Input, LSTM, Embedding, Dropout, Activation, Flatten, Bidirectional, GlobalMaxPool1D\n",
        "from tensorflow.keras.models import Model, Sequential"
      ],
      "execution_count": 0,
      "outputs": []
    },
    {
      "cell_type": "markdown",
      "metadata": {
        "colab_type": "text",
        "id": "9ziybaD1RdD9"
      },
      "source": [
        "## Set Different Parameters for the model. ( 4 marks)"
      ]
    },
    {
      "cell_type": "code",
      "metadata": {
        "colab_type": "code",
        "id": "jPw9gAN_EV6m",
        "colab": {}
      },
      "source": [
        "max_features = 10000\n",
        "maxlen = max(df['length'])\n",
        "embedding_size = 200"
      ],
      "execution_count": 0,
      "outputs": []
    },
    {
      "cell_type": "markdown",
      "metadata": {
        "colab_type": "text",
        "id": "9abSe-bM8fn9"
      },
      "source": [
        "## Apply Keras Tokenizer of headline column of your data.  ( 8 marks)\n",
        "Hint - First create a tokenizer instance using Tokenizer(num_words=max_features) \n",
        "And then fit this tokenizer instance on your data column df['headline'] using .fit_on_texts()"
      ]
    },
    {
      "cell_type": "code",
      "metadata": {
        "id": "cZiLMWgZsHhx",
        "colab_type": "code",
        "colab": {}
      },
      "source": [
        "import re\n",
        "df['headline'] = df['headline'].apply(lambda s : re.sub('[^a-zA-Z]', ' ', s))"
      ],
      "execution_count": 0,
      "outputs": []
    },
    {
      "cell_type": "code",
      "metadata": {
        "colab_type": "code",
        "id": "T9Ad26HfTFMS",
        "colab": {}
      },
      "source": [
        "tokenizer = Tokenizer(num_words=max_features)\n",
        "tokenizer.fit_on_texts(df['headline'])"
      ],
      "execution_count": 0,
      "outputs": []
    },
    {
      "cell_type": "markdown",
      "metadata": {
        "colab_type": "text",
        "id": "0Ffi63KsST3P"
      },
      "source": [
        "## Define X and y for your model"
      ]
    },
    {
      "cell_type": "code",
      "metadata": {
        "colab_type": "code",
        "id": "wnjxBdqmSS4s",
        "outputId": "c71afc08-5285-45c0-d0bd-78e20802cbd0",
        "colab": {
          "base_uri": "https://localhost:8080/",
          "height": 255
        }
      },
      "source": [
        "X = tokenizer.texts_to_sequences(df['headline'])\n",
        "X = pad_sequences(X, maxlen = maxlen)\n",
        "y = np.asarray(df['is_sarcastic'])\n",
        "\n",
        "print(\"Number of Samples:\", len(X))\n",
        "print(X[0])\n",
        "print(\"Number of Labels: \", len(y))\n",
        "print(y[0])"
      ],
      "execution_count": 15,
      "outputs": [
        {
          "output_type": "stream",
          "text": [
            "Number of Samples: 28619\n",
            "[   0    0    0    0    0    0    0    0    0    0    0    0    0    0\n",
            "    0    0    0    0    0    0    0    0    0    0    0    0    0    0\n",
            "    0    0    0    0    0    0    0    0    0    0    0    0    0    0\n",
            "    0    0    0    0    0    0    0    0    0    0    0    0    0    0\n",
            "    0    0    0    0    0    0    0    0    0    0    0    0    0    0\n",
            "    0    0    0    0    0    0    0    0    0    0    0    0    0    0\n",
            "    0    0    0    0    0    0    0    0    0    0    0    0    0    0\n",
            "    0    0    0    0    0    0    0    0    0    0    0    0    0    0\n",
            "    0    0    0    0    0    0    0    0    0    0    0    0    0    0\n",
            "    0    0    0    0    0    0    0    0    0    0    0    0    0    0\n",
            "    0    0    0    0  352 3155 6257 2143    2  641 1123]\n",
            "Number of Labels:  28619\n",
            "1\n"
          ],
          "name": "stdout"
        }
      ]
    },
    {
      "cell_type": "code",
      "metadata": {
        "id": "odT0ZNMHspe5",
        "colab_type": "code",
        "colab": {}
      },
      "source": [
        "from sklearn.model_selection import train_test_split\n",
        "X_train, X_test, y_train, y_test = train_test_split(X, y, test_size=0.30, random_state=20)"
      ],
      "execution_count": 0,
      "outputs": []
    },
    {
      "cell_type": "code",
      "metadata": {
        "id": "RsRTwHKUuoEz",
        "colab_type": "code",
        "colab": {
          "base_uri": "https://localhost:8080/",
          "height": 34
        },
        "outputId": "5ad8b716-5fa8-4982-9633-eeca9f561532"
      },
      "source": [
        "X_train.shape, y_train.shape, X_test.shape, y_test.shape"
      ],
      "execution_count": 28,
      "outputs": [
        {
          "output_type": "execute_result",
          "data": {
            "text/plain": [
              "((20033, 151), (20033,), (8586, 151), (8586,))"
            ]
          },
          "metadata": {
            "tags": []
          },
          "execution_count": 28
        }
      ]
    },
    {
      "cell_type": "markdown",
      "metadata": {
        "colab_type": "text",
        "id": "WJLyKg-98rH_"
      },
      "source": [
        "## Get the Vocabulary size ( 4 marks)\n",
        "Hint : You can use tokenizer.word_index."
      ]
    },
    {
      "cell_type": "code",
      "metadata": {
        "id": "wMaIn7Ziu7X_",
        "colab_type": "code",
        "outputId": "3b40465f-00ca-4bd9-bace-785ea0a5ffc1",
        "colab": {
          "base_uri": "https://localhost:8080/",
          "height": 34
        }
      },
      "source": [
        "word_index = tokenizer.word_index\n",
        "vocab_size = max(list(word_index.values())) + 1\n",
        "print('vocab_size %s.' % vocab_size)"
      ],
      "execution_count": 17,
      "outputs": [
        {
          "output_type": "stream",
          "text": [
            "vocab_size 25916.\n"
          ],
          "name": "stdout"
        }
      ]
    },
    {
      "cell_type": "code",
      "metadata": {
        "id": "E2OqlmFTdbra",
        "colab_type": "code",
        "colab": {}
      },
      "source": [
        "dict1 = dict()\n",
        "for word, idx in tokenizer.word_index.items():\n",
        "  dict1[word] = idx"
      ],
      "execution_count": 0,
      "outputs": []
    },
    {
      "cell_type": "code",
      "metadata": {
        "id": "SDTQSnxAeNp3",
        "colab_type": "code",
        "outputId": "b402c96d-cae1-40dc-e4f0-b7b2acdb2c55",
        "colab": {
          "base_uri": "https://localhost:8080/",
          "height": 1000
        }
      },
      "source": [
        "dict1"
      ],
      "execution_count": 19,
      "outputs": [
        {
          "output_type": "execute_result",
          "data": {
            "text/plain": [
              "{'to': 1,\n",
              " 'of': 2,\n",
              " 's': 3,\n",
              " 'the': 4,\n",
              " 'in': 5,\n",
              " 'for': 6,\n",
              " 'a': 7,\n",
              " 'on': 8,\n",
              " 'and': 9,\n",
              " 'with': 10,\n",
              " 'trump': 11,\n",
              " 'is': 12,\n",
              " 'new': 13,\n",
              " 'man': 14,\n",
              " 'at': 15,\n",
              " 'from': 16,\n",
              " 't': 17,\n",
              " 'you': 18,\n",
              " 'it': 19,\n",
              " 'about': 20,\n",
              " 'by': 21,\n",
              " 'after': 22,\n",
              " 'this': 23,\n",
              " 'out': 24,\n",
              " 'that': 25,\n",
              " 'up': 26,\n",
              " 'he': 27,\n",
              " 'be': 28,\n",
              " 'as': 29,\n",
              " 'how': 30,\n",
              " 'not': 31,\n",
              " 'what': 32,\n",
              " 'can': 33,\n",
              " 'who': 34,\n",
              " 'his': 35,\n",
              " 'are': 36,\n",
              " 'just': 37,\n",
              " 'your': 38,\n",
              " 'all': 39,\n",
              " 'has': 40,\n",
              " 'will': 41,\n",
              " 'report': 42,\n",
              " 'more': 43,\n",
              " 'into': 44,\n",
              " 'one': 45,\n",
              " 'year': 46,\n",
              " 'have': 47,\n",
              " 'woman': 48,\n",
              " 'over': 49,\n",
              " 'i': 50,\n",
              " 'day': 51,\n",
              " 'why': 52,\n",
              " 'u': 53,\n",
              " 'area': 54,\n",
              " 'time': 55,\n",
              " 'says': 56,\n",
              " 'donald': 57,\n",
              " 'first': 58,\n",
              " 'no': 59,\n",
              " 'like': 60,\n",
              " 'get': 61,\n",
              " 'her': 62,\n",
              " 'people': 63,\n",
              " 'obama': 64,\n",
              " 'old': 65,\n",
              " 'off': 66,\n",
              " 'women': 67,\n",
              " 'nation': 68,\n",
              " 'life': 69,\n",
              " 'world': 70,\n",
              " 'they': 71,\n",
              " 'now': 72,\n",
              " 'house': 73,\n",
              " 'an': 74,\n",
              " 'we': 75,\n",
              " 'white': 76,\n",
              " 'still': 77,\n",
              " 'back': 78,\n",
              " 'make': 79,\n",
              " 'was': 80,\n",
              " 'than': 81,\n",
              " 'down': 82,\n",
              " 'clinton': 83,\n",
              " 'if': 84,\n",
              " 'she': 85,\n",
              " 'my': 86,\n",
              " 'when': 87,\n",
              " 'could': 88,\n",
              " 'family': 89,\n",
              " 'before': 90,\n",
              " 'their': 91,\n",
              " 'way': 92,\n",
              " 'him': 93,\n",
              " 'americans': 94,\n",
              " 'do': 95,\n",
              " 'would': 96,\n",
              " 'black': 97,\n",
              " 'gop': 98,\n",
              " 'only': 99,\n",
              " 'study': 100,\n",
              " 'most': 101,\n",
              " 'american': 102,\n",
              " 'school': 103,\n",
              " 'years': 104,\n",
              " 'so': 105,\n",
              " 'being': 106,\n",
              " 'bill': 107,\n",
              " 'president': 108,\n",
              " 'here': 109,\n",
              " 'really': 110,\n",
              " 'finds': 111,\n",
              " 'best': 112,\n",
              " 'state': 113,\n",
              " 'show': 114,\n",
              " 'last': 115,\n",
              " 'know': 116,\n",
              " 'but': 117,\n",
              " 'america': 118,\n",
              " 'should': 119,\n",
              " 'police': 120,\n",
              " 'going': 121,\n",
              " 'mom': 122,\n",
              " 'death': 123,\n",
              " 'watch': 124,\n",
              " 'good': 125,\n",
              " 'home': 126,\n",
              " 'during': 127,\n",
              " 'or': 128,\n",
              " 'video': 129,\n",
              " 'big': 130,\n",
              " 'every': 131,\n",
              " 'things': 132,\n",
              " 'say': 133,\n",
              " 'too': 134,\n",
              " 'love': 135,\n",
              " 'campaign': 136,\n",
              " 'parents': 137,\n",
              " 'child': 138,\n",
              " 'right': 139,\n",
              " 'party': 140,\n",
              " 'health': 141,\n",
              " 'hillary': 142,\n",
              " 're': 143,\n",
              " 'may': 144,\n",
              " 'getting': 145,\n",
              " 'against': 146,\n",
              " 'work': 147,\n",
              " 'there': 148,\n",
              " 'don': 149,\n",
              " 'kids': 150,\n",
              " 'self': 151,\n",
              " 'gets': 152,\n",
              " 'some': 153,\n",
              " 'dead': 154,\n",
              " 'while': 155,\n",
              " 'little': 156,\n",
              " 'high': 157,\n",
              " 'need': 158,\n",
              " 'where': 159,\n",
              " 'never': 160,\n",
              " 'take': 161,\n",
              " 'john': 162,\n",
              " 'doesn': 163,\n",
              " 'through': 164,\n",
              " 'court': 165,\n",
              " 'change': 166,\n",
              " 'makes': 167,\n",
              " 'these': 168,\n",
              " 'other': 169,\n",
              " 'news': 170,\n",
              " 'own': 171,\n",
              " 'real': 172,\n",
              " 'gay': 173,\n",
              " 'stop': 174,\n",
              " 'go': 175,\n",
              " 'calls': 176,\n",
              " 'war': 177,\n",
              " 'baby': 178,\n",
              " 'look': 179,\n",
              " 'our': 180,\n",
              " 'election': 181,\n",
              " 'star': 182,\n",
              " 'game': 183,\n",
              " 'next': 184,\n",
              " 'want': 185,\n",
              " 'dad': 186,\n",
              " 'week': 187,\n",
              " 'see': 188,\n",
              " 'guy': 189,\n",
              " 'even': 190,\n",
              " 'local': 191,\n",
              " 'around': 192,\n",
              " 'sex': 193,\n",
              " 'bush': 194,\n",
              " 'takes': 195,\n",
              " 'its': 196,\n",
              " 'dog': 197,\n",
              " 'won': 198,\n",
              " 'them': 199,\n",
              " 'again': 200,\n",
              " 'million': 201,\n",
              " 'plan': 202,\n",
              " 'office': 203,\n",
              " 'another': 204,\n",
              " 'night': 205,\n",
              " 'college': 206,\n",
              " 'made': 207,\n",
              " 'two': 208,\n",
              " 'got': 209,\n",
              " 'help': 210,\n",
              " 'live': 211,\n",
              " 'ever': 212,\n",
              " 'job': 213,\n",
              " 'couple': 214,\n",
              " 'announces': 215,\n",
              " 'thing': 216,\n",
              " 'finally': 217,\n",
              " 'debate': 218,\n",
              " 'wants': 219,\n",
              " 'much': 220,\n",
              " 'been': 221,\n",
              " 'long': 222,\n",
              " 'children': 223,\n",
              " 'gun': 224,\n",
              " 'us': 225,\n",
              " 'actually': 226,\n",
              " 'under': 227,\n",
              " 'god': 228,\n",
              " 'reveals': 229,\n",
              " 'care': 230,\n",
              " 'me': 231,\n",
              " 'men': 232,\n",
              " 'congress': 233,\n",
              " 'senate': 234,\n",
              " 'son': 235,\n",
              " 'everyone': 236,\n",
              " 'money': 237,\n",
              " 'm': 238,\n",
              " 'bad': 239,\n",
              " 'north': 240,\n",
              " 'national': 241,\n",
              " 'better': 242,\n",
              " 'sexual': 243,\n",
              " 'climate': 244,\n",
              " 'city': 245,\n",
              " 'friend': 246,\n",
              " 'trying': 247,\n",
              " 'away': 248,\n",
              " 'face': 249,\n",
              " 'facebook': 250,\n",
              " 'shows': 251,\n",
              " 'season': 252,\n",
              " 'anti': 253,\n",
              " 'teen': 254,\n",
              " 'without': 255,\n",
              " 'law': 256,\n",
              " 'let': 257,\n",
              " 'd': 258,\n",
              " 'top': 259,\n",
              " 'york': 260,\n",
              " 'give': 261,\n",
              " 'had': 262,\n",
              " 'food': 263,\n",
              " 'enough': 264,\n",
              " 'media': 265,\n",
              " 'making': 266,\n",
              " 'any': 267,\n",
              " 'paul': 268,\n",
              " 'free': 269,\n",
              " 'students': 270,\n",
              " 'pope': 271,\n",
              " 'story': 272,\n",
              " 'mother': 273,\n",
              " 'ways': 274,\n",
              " 'movie': 275,\n",
              " 'body': 276,\n",
              " 'government': 277,\n",
              " 'history': 278,\n",
              " 'sanders': 279,\n",
              " 'business': 280,\n",
              " 'tv': 281,\n",
              " 'shooting': 282,\n",
              " 'company': 283,\n",
              " 'friends': 284,\n",
              " 'end': 285,\n",
              " 'single': 286,\n",
              " 'supreme': 287,\n",
              " 'entire': 288,\n",
              " 'father': 289,\n",
              " 'attack': 290,\n",
              " 'tell': 291,\n",
              " 'part': 292,\n",
              " 'introduces': 293,\n",
              " 'fire': 294,\n",
              " 'fight': 295,\n",
              " 'deal': 296,\n",
              " 'girl': 297,\n",
              " 'pretty': 298,\n",
              " 'already': 299,\n",
              " 'think': 300,\n",
              " 'll': 301,\n",
              " 'great': 302,\n",
              " 'same': 303,\n",
              " 'find': 304,\n",
              " 'film': 305,\n",
              " 'line': 306,\n",
              " 'book': 307,\n",
              " 'must': 308,\n",
              " 'call': 309,\n",
              " 'releases': 310,\n",
              " 'car': 311,\n",
              " 'found': 312,\n",
              " 'second': 313,\n",
              " 'th': 314,\n",
              " 'run': 315,\n",
              " 'power': 316,\n",
              " 'middle': 317,\n",
              " 'country': 318,\n",
              " 'does': 319,\n",
              " 'having': 320,\n",
              " 'come': 321,\n",
              " 'former': 322,\n",
              " 'public': 323,\n",
              " 'support': 324,\n",
              " 'wedding': 325,\n",
              " 'presidential': 326,\n",
              " 'coming': 327,\n",
              " 'speech': 328,\n",
              " 'social': 329,\n",
              " 'unveils': 330,\n",
              " 'use': 331,\n",
              " 'didn': 332,\n",
              " 'talk': 333,\n",
              " 'keep': 334,\n",
              " 'behind': 335,\n",
              " 'doing': 336,\n",
              " 'name': 337,\n",
              " 'room': 338,\n",
              " 'case': 339,\n",
              " 'republican': 340,\n",
              " 'something': 341,\n",
              " 'open': 342,\n",
              " 'fans': 343,\n",
              " 'full': 344,\n",
              " 'looking': 345,\n",
              " 'future': 346,\n",
              " 'ceo': 347,\n",
              " 'student': 348,\n",
              " 'human': 349,\n",
              " 'photos': 350,\n",
              " 'christmas': 351,\n",
              " 'scientists': 352,\n",
              " 'voters': 353,\n",
              " 'morning': 354,\n",
              " 'security': 355,\n",
              " 'james': 356,\n",
              " 'between': 357,\n",
              " 'fucking': 358,\n",
              " 'wife': 359,\n",
              " 'republicans': 360,\n",
              " 'once': 361,\n",
              " 'thinks': 362,\n",
              " 'teacher': 363,\n",
              " 'rights': 364,\n",
              " 'boy': 365,\n",
              " 'secret': 366,\n",
              " 'might': 367,\n",
              " 'asks': 368,\n",
              " 'team': 369,\n",
              " 'post': 370,\n",
              " 'democrats': 371,\n",
              " 'race': 372,\n",
              " 'very': 373,\n",
              " 'claims': 374,\n",
              " 'ryan': 375,\n",
              " 'group': 376,\n",
              " 'vote': 377,\n",
              " 'forced': 378,\n",
              " 'used': 379,\n",
              " 'tax': 380,\n",
              " 'email': 381,\n",
              " 'win': 382,\n",
              " 'today': 383,\n",
              " 'admits': 384,\n",
              " 'goes': 385,\n",
              " 'person': 386,\n",
              " 'marriage': 387,\n",
              " 'violence': 388,\n",
              " 'poll': 389,\n",
              " 'michael': 390,\n",
              " 'killed': 391,\n",
              " 'control': 392,\n",
              " 'because': 393,\n",
              " 'super': 394,\n",
              " 'ad': 395,\n",
              " 'times': 396,\n",
              " 'department': 397,\n",
              " 'many': 398,\n",
              " 'sure': 399,\n",
              " 'ban': 400,\n",
              " 'bernie': 401,\n",
              " 'california': 402,\n",
              " 'hot': 403,\n",
              " 'plans': 404,\n",
              " 'female': 405,\n",
              " 'political': 406,\n",
              " 'minutes': 407,\n",
              " 've': 408,\n",
              " 'inside': 409,\n",
              " 'everything': 410,\n",
              " 'put': 411,\n",
              " 'until': 412,\n",
              " 'judge': 413,\n",
              " 'red': 414,\n",
              " 'days': 415,\n",
              " 'always': 416,\n",
              " 'twitter': 417,\n",
              " 'candidate': 418,\n",
              " 'running': 419,\n",
              " 'russia': 420,\n",
              " 'girls': 421,\n",
              " 'employee': 422,\n",
              " 'perfect': 423,\n",
              " 'water': 424,\n",
              " 'head': 425,\n",
              " 'eating': 426,\n",
              " 'dies': 427,\n",
              " 'meet': 428,\n",
              " 'daughter': 429,\n",
              " 'warns': 430,\n",
              " 'states': 431,\n",
              " 'each': 432,\n",
              " 'wall': 433,\n",
              " 'town': 434,\n",
              " 'photo': 435,\n",
              " 'art': 436,\n",
              " 'music': 437,\n",
              " 'class': 438,\n",
              " 'month': 439,\n",
              " 'reports': 440,\n",
              " 'taking': 441,\n",
              " 'list': 442,\n",
              " 'idea': 443,\n",
              " 'working': 444,\n",
              " 'summer': 445,\n",
              " 'heart': 446,\n",
              " 'record': 447,\n",
              " 'tells': 448,\n",
              " 'living': 449,\n",
              " 'earth': 450,\n",
              " 'past': 451,\n",
              " 'king': 452,\n",
              " 'place': 453,\n",
              " 'save': 454,\n",
              " 'iran': 455,\n",
              " 'obamacare': 456,\n",
              " 'biden': 457,\n",
              " 'service': 458,\n",
              " 'three': 459,\n",
              " 'missing': 460,\n",
              " 'secretary': 461,\n",
              " 'mike': 462,\n",
              " 'were': 463,\n",
              " 'girlfriend': 464,\n",
              " 'did': 465,\n",
              " 'needs': 466,\n",
              " 'korea': 467,\n",
              " 'cruz': 468,\n",
              " 'shit': 469,\n",
              " 'someone': 470,\n",
              " 'looks': 471,\n",
              " 'george': 472,\n",
              " 'thousands': 473,\n",
              " 'wrong': 474,\n",
              " 'left': 475,\n",
              " 'shot': 476,\n",
              " 'justice': 477,\n",
              " 'breaking': 478,\n",
              " 'pay': 479,\n",
              " 'ice': 480,\n",
              " 'cancer': 481,\n",
              " 'phone': 482,\n",
              " 'start': 483,\n",
              " 'lives': 484,\n",
              " 'thought': 485,\n",
              " 'comes': 486,\n",
              " 'probably': 487,\n",
              " 'lost': 488,\n",
              " 'hours': 489,\n",
              " 'together': 490,\n",
              " 'director': 491,\n",
              " 'restaurant': 492,\n",
              " 'set': 493,\n",
              " 'rock': 494,\n",
              " 'officials': 495,\n",
              " 'age': 496,\n",
              " 'gives': 497,\n",
              " 'believe': 498,\n",
              " 'street': 499,\n",
              " 'kill': 500,\n",
              " 'young': 501,\n",
              " 'meeting': 502,\n",
              " 'half': 503,\n",
              " 'ready': 504,\n",
              " 'fan': 505,\n",
              " 'isis': 506,\n",
              " 'texas': 507,\n",
              " 'administration': 508,\n",
              " 'air': 509,\n",
              " 'ex': 510,\n",
              " 'owner': 511,\n",
              " 'talks': 512,\n",
              " 'wearing': 513,\n",
              " 'yet': 514,\n",
              " 'kim': 515,\n",
              " 'drug': 516,\n",
              " 'chief': 517,\n",
              " 'washington': 518,\n",
              " 'giving': 519,\n",
              " 'romney': 520,\n",
              " 'few': 521,\n",
              " 'small': 522,\n",
              " 'crisis': 523,\n",
              " 'francis': 524,\n",
              " 'nothing': 525,\n",
              " 'dream': 526,\n",
              " 'word': 527,\n",
              " 'leave': 528,\n",
              " 'watching': 529,\n",
              " 'fbi': 530,\n",
              " 'prison': 531,\n",
              " 'education': 532,\n",
              " 'letter': 533,\n",
              " 'cat': 534,\n",
              " 'hard': 535,\n",
              " 'well': 536,\n",
              " 'hour': 537,\n",
              " 'sleep': 538,\n",
              " 'kind': 539,\n",
              " 'mark': 540,\n",
              " 'wins': 541,\n",
              " 'south': 542,\n",
              " 'feel': 543,\n",
              " 'ted': 544,\n",
              " 'tips': 545,\n",
              " 'kid': 546,\n",
              " 'attacks': 547,\n",
              " 'third': 548,\n",
              " 'military': 549,\n",
              " 'talking': 550,\n",
              " 'hollywood': 551,\n",
              " 'china': 552,\n",
              " 'bar': 553,\n",
              " 'system': 554,\n",
              " 'personal': 555,\n",
              " 'community': 556,\n",
              " 'internet': 557,\n",
              " 'less': 558,\n",
              " 'stars': 559,\n",
              " 'order': 560,\n",
              " 'birthday': 561,\n",
              " 'months': 562,\n",
              " 'online': 563,\n",
              " 'outside': 564,\n",
              " 'using': 565,\n",
              " 'chris': 566,\n",
              " 'democratic': 567,\n",
              " 'move': 568,\n",
              " 'fox': 569,\n",
              " 'mueller': 570,\n",
              " 'questions': 571,\n",
              " 'nuclear': 572,\n",
              " 'leaves': 573,\n",
              " 'percent': 574,\n",
              " 'happy': 575,\n",
              " 'fun': 576,\n",
              " 'federal': 577,\n",
              " 'those': 578,\n",
              " 'cop': 579,\n",
              " 'florida': 580,\n",
              " 'march': 581,\n",
              " 'following': 582,\n",
              " 'straight': 583,\n",
              " 'assault': 584,\n",
              " 'special': 585,\n",
              " 'latest': 586,\n",
              " 'majority': 587,\n",
              " 'issues': 588,\n",
              " 'tweets': 589,\n",
              " 'store': 590,\n",
              " 'beautiful': 591,\n",
              " 'rules': 592,\n",
              " 'gift': 593,\n",
              " 'congressman': 594,\n",
              " 'cover': 595,\n",
              " 'abortion': 596,\n",
              " 'o': 597,\n",
              " 'lot': 598,\n",
              " 'die': 599,\n",
              " 'problem': 600,\n",
              " 'holiday': 601,\n",
              " 'since': 602,\n",
              " 'excited': 603,\n",
              " 'guide': 604,\n",
              " 'hit': 605,\n",
              " 'investigation': 606,\n",
              " 'knows': 607,\n",
              " 'read': 608,\n",
              " 'pence': 609,\n",
              " 'reason': 610,\n",
              " 'huge': 611,\n",
              " 'break': 612,\n",
              " 'series': 613,\n",
              " 'muslim': 614,\n",
              " 'buy': 615,\n",
              " 'k': 616,\n",
              " 'minute': 617,\n",
              " 'different': 618,\n",
              " 'hate': 619,\n",
              " 'late': 620,\n",
              " 'c': 621,\n",
              " 'leaders': 622,\n",
              " 'waiting': 623,\n",
              " 'spends': 624,\n",
              " 'senator': 625,\n",
              " 'told': 626,\n",
              " 'al': 627,\n",
              " 'stephen': 628,\n",
              " 'prince': 629,\n",
              " 'called': 630,\n",
              " 'travel': 631,\n",
              " 'box': 632,\n",
              " 'scott': 633,\n",
              " 'trip': 634,\n",
              " 'ask': 635,\n",
              " 'offers': 636,\n",
              " 'favorite': 637,\n",
              " 'anything': 638,\n",
              " 'rise': 639,\n",
              " 'relationship': 640,\n",
              " 'hair': 641,\n",
              " 'isn': 642,\n",
              " 'whole': 643,\n",
              " 'visit': 644,\n",
              " 'non': 645,\n",
              " 'fall': 646,\n",
              " 'chinese': 647,\n",
              " 'millions': 648,\n",
              " 'candidates': 649,\n",
              " 'thinking': 650,\n",
              " 'russian': 651,\n",
              " 'front': 652,\n",
              " 'response': 653,\n",
              " 'moment': 654,\n",
              " 'huffpost': 655,\n",
              " 'play': 656,\n",
              " 'worried': 657,\n",
              " 'date': 658,\n",
              " 'david': 659,\n",
              " 'union': 660,\n",
              " 'drunk': 661,\n",
              " 'weekend': 662,\n",
              " 'trailer': 663,\n",
              " 'interview': 664,\n",
              " 'reasons': 665,\n",
              " 'jimmy': 666,\n",
              " 'celebrates': 667,\n",
              " 'st': 668,\n",
              " 'light': 669,\n",
              " 'employees': 670,\n",
              " 'taylor': 671,\n",
              " 'immigration': 672,\n",
              " 'protest': 673,\n",
              " 'fuck': 674,\n",
              " 'apple': 675,\n",
              " 'politics': 676,\n",
              " 'early': 677,\n",
              " 'career': 678,\n",
              " 'himself': 679,\n",
              " 'billion': 680,\n",
              " 'united': 681,\n",
              " 'tom': 682,\n",
              " 'bring': 683,\n",
              " 'hands': 684,\n",
              " 'leader': 685,\n",
              " 'mass': 686,\n",
              " 'feels': 687,\n",
              " 'birth': 688,\n",
              " 'struggling': 689,\n",
              " 'hope': 690,\n",
              " 'victims': 691,\n",
              " 'least': 692,\n",
              " 'amazon': 693,\n",
              " 'completely': 694,\n",
              " 'un': 695,\n",
              " 'message': 696,\n",
              " 'massive': 697,\n",
              " 'words': 698,\n",
              " 'accused': 699,\n",
              " 'opens': 700,\n",
              " 'become': 701,\n",
              " 'starting': 702,\n",
              " 'syria': 703,\n",
              " 'murder': 704,\n",
              " 'turn': 705,\n",
              " 'center': 706,\n",
              " 'killing': 707,\n",
              " 'onion': 708,\n",
              " 'cnn': 709,\n",
              " 'true': 710,\n",
              " 'vows': 711,\n",
              " 'experts': 712,\n",
              " 'discover': 713,\n",
              " 'far': 714,\n",
              " 'sports': 715,\n",
              " 'lessons': 716,\n",
              " 'sick': 717,\n",
              " 'returns': 718,\n",
              " 'west': 719,\n",
              " 'joe': 720,\n",
              " 'point': 721,\n",
              " 'conversation': 722,\n",
              " 'clearly': 723,\n",
              " 'industry': 724,\n",
              " 'turns': 725,\n",
              " 'decision': 726,\n",
              " 'queer': 727,\n",
              " 'driving': 728,\n",
              " 'dating': 729,\n",
              " 'key': 730,\n",
              " 'policy': 731,\n",
              " 'totally': 732,\n",
              " 'cut': 733,\n",
              " 'experience': 734,\n",
              " 'wishes': 735,\n",
              " 'iraq': 736,\n",
              " 'weird': 737,\n",
              " 'wars': 738,\n",
              " 'stage': 739,\n",
              " 'j': 740,\n",
              " 'host': 741,\n",
              " 'sign': 742,\n",
              " 'whether': 743,\n",
              " 'dance': 744,\n",
              " 'coworker': 745,\n",
              " 'abuse': 746,\n",
              " 'cops': 747,\n",
              " 'song': 748,\n",
              " 'fashion': 749,\n",
              " 'adds': 750,\n",
              " 'low': 751,\n",
              " 'reality': 752,\n",
              " 'moving': 753,\n",
              " 'adorable': 754,\n",
              " 'learned': 755,\n",
              " 'walking': 756,\n",
              " 'signs': 757,\n",
              " 'hoping': 758,\n",
              " 'friday': 759,\n",
              " 'seen': 760,\n",
              " 'band': 761,\n",
              " 'rubio': 762,\n",
              " 'workers': 763,\n",
              " 'role': 764,\n",
              " 'bus': 765,\n",
              " 'governor': 766,\n",
              " 'jr': 767,\n",
              " 'oil': 768,\n",
              " 'powerful': 769,\n",
              " 'chicago': 770,\n",
              " 'hand': 771,\n",
              " 'breaks': 772,\n",
              " 'across': 773,\n",
              " 'users': 774,\n",
              " 'stand': 775,\n",
              " 'apartment': 776,\n",
              " 'voice': 777,\n",
              " 'global': 778,\n",
              " 'keeps': 779,\n",
              " 'mind': 780,\n",
              " 'syrian': 781,\n",
              " 'announce': 782,\n",
              " 'risk': 783,\n",
              " 'begins': 784,\n",
              " 'blood': 785,\n",
              " 'puts': 786,\n",
              " 'lose': 787,\n",
              " 'final': 788,\n",
              " 'check': 789,\n",
              " 'dinner': 790,\n",
              " 'e': 791,\n",
              " 'press': 792,\n",
              " 'lgbt': 793,\n",
              " 'almost': 794,\n",
              " 'number': 795,\n",
              " 'worst': 796,\n",
              " 'playing': 797,\n",
              " 'lead': 798,\n",
              " 'names': 799,\n",
              " 'space': 800,\n",
              " 'coffee': 801,\n",
              " 'longer': 802,\n",
              " 'boyfriend': 803,\n",
              " 'hurricane': 804,\n",
              " 'road': 805,\n",
              " 'schools': 806,\n",
              " 'kills': 807,\n",
              " 'feeling': 808,\n",
              " 'anyone': 809,\n",
              " 'crash': 810,\n",
              " 'awards': 811,\n",
              " 'hits': 812,\n",
              " 'test': 813,\n",
              " 'doctor': 814,\n",
              " 'robert': 815,\n",
              " 'suicide': 816,\n",
              " 'oscars': 817,\n",
              " 'israel': 818,\n",
              " 'hall': 819,\n",
              " 'kardashian': 820,\n",
              " 'university': 821,\n",
              " 'netflix': 822,\n",
              " 'try': 823,\n",
              " 'worth': 824,\n",
              " 'anniversary': 825,\n",
              " 'official': 826,\n",
              " 'football': 827,\n",
              " 'surprise': 828,\n",
              " 'which': 829,\n",
              " 'artist': 830,\n",
              " 'oscar': 831,\n",
              " 'mental': 832,\n",
              " 'trans': 833,\n",
              " 'shop': 834,\n",
              " 'n': 835,\n",
              " 'grandma': 836,\n",
              " 'data': 837,\n",
              " 'iowa': 838,\n",
              " 'table': 839,\n",
              " 'return': 840,\n",
              " 'boys': 841,\n",
              " 'cool': 842,\n",
              " 'fighting': 843,\n",
              " 'jenner': 844,\n",
              " 'suspect': 845,\n",
              " 'audience': 846,\n",
              " 'plane': 847,\n",
              " 'nfl': 848,\n",
              " 'evidence': 849,\n",
              " 'swift': 850,\n",
              " 'general': 851,\n",
              " 'program': 852,\n",
              " 'demands': 853,\n",
              " 'google': 854,\n",
              " 'finding': 855,\n",
              " 'door': 856,\n",
              " 'husband': 857,\n",
              " 'fear': 858,\n",
              " 'side': 859,\n",
              " 'remember': 860,\n",
              " 'apologizes': 861,\n",
              " 'important': 862,\n",
              " 'magazine': 863,\n",
              " 'park': 864,\n",
              " 'planet': 865,\n",
              " 'transgender': 866,\n",
              " 'planned': 867,\n",
              " 'michelle': 868,\n",
              " 'halloween': 869,\n",
              " 'steve': 870,\n",
              " 'executive': 871,\n",
              " 'eat': 872,\n",
              " 'style': 873,\n",
              " 'spot': 874,\n",
              " 'five': 875,\n",
              " 'harry': 876,\n",
              " 'wait': 877,\n",
              " 'boss': 878,\n",
              " 'chance': 879,\n",
              " 'bathroom': 880,\n",
              " 'crime': 881,\n",
              " 'defense': 882,\n",
              " 'act': 883,\n",
              " 'reportedly': 884,\n",
              " 'urges': 885,\n",
              " 'near': 886,\n",
              " 'moms': 887,\n",
              " 'voter': 888,\n",
              " 'peace': 889,\n",
              " 'picture': 890,\n",
              " 'church': 891,\n",
              " 'ferguson': 892,\n",
              " 'success': 893,\n",
              " 'paris': 894,\n",
              " 'possible': 895,\n",
              " 'hear': 896,\n",
              " 'members': 897,\n",
              " 'tour': 898,\n",
              " 'supporters': 899,\n",
              " 'biggest': 900,\n",
              " 'poor': 901,\n",
              " 'reveal': 902,\n",
              " 'advice': 903,\n",
              " 'ideas': 904,\n",
              " 'force': 905,\n",
              " 'nyc': 906,\n",
              " 'website': 907,\n",
              " 'easy': 908,\n",
              " 'vacation': 909,\n",
              " 'beauty': 910,\n",
              " 'staff': 911,\n",
              " 'given': 912,\n",
              " 'demand': 913,\n",
              " 'brings': 914,\n",
              " 'kerry': 915,\n",
              " 'carolina': 916,\n",
              " 'dying': 917,\n",
              " 'hell': 918,\n",
              " 'queen': 919,\n",
              " 'racist': 920,\n",
              " 'reform': 921,\n",
              " 'officer': 922,\n",
              " 'close': 923,\n",
              " 'teens': 924,\n",
              " 'allegations': 925,\n",
              " 'card': 926,\n",
              " 'accidentally': 927,\n",
              " 'board': 928,\n",
              " 'eyes': 929,\n",
              " 'protesters': 930,\n",
              " 'humans': 931,\n",
              " 'building': 932,\n",
              " 'jobs': 933,\n",
              " 'eye': 934,\n",
              " 'rest': 935,\n",
              " 'pro': 936,\n",
              " 'major': 937,\n",
              " 'green': 938,\n",
              " 'train': 939,\n",
              " 'push': 940,\n",
              " 'weight': 941,\n",
              " 'avoid': 942,\n",
              " 'elizabeth': 943,\n",
              " 'driver': 944,\n",
              " 'homeless': 945,\n",
              " 'kelly': 946,\n",
              " 'quietly': 947,\n",
              " 'reminds': 948,\n",
              " 'address': 949,\n",
              " 'learn': 950,\n",
              " 'bowl': 951,\n",
              " 'uses': 952,\n",
              " 'fast': 953,\n",
              " 'chicken': 954,\n",
              " 'williams': 955,\n",
              " 'proud': 956,\n",
              " 'apparently': 957,\n",
              " 'energy': 958,\n",
              " 'question': 959,\n",
              " 'healthy': 960,\n",
              " 'asking': 961,\n",
              " 'lady': 962,\n",
              " 'pregnant': 963,\n",
              " 'reporter': 964,\n",
              " 'amazing': 965,\n",
              " 'suggests': 966,\n",
              " 'rally': 967,\n",
              " 'economy': 968,\n",
              " 'lets': 969,\n",
              " 'died': 970,\n",
              " 'celebrate': 971,\n",
              " 'culture': 972,\n",
              " 'ben': 973,\n",
              " 'performance': 974,\n",
              " 'jones': 975,\n",
              " 'prevent': 976,\n",
              " 'moore': 977,\n",
              " 'emotional': 978,\n",
              " 'mayor': 979,\n",
              " 'saudi': 980,\n",
              " 'religious': 981,\n",
              " 'mccain': 982,\n",
              " 'male': 983,\n",
              " 'short': 984,\n",
              " 'older': 985,\n",
              " 'leading': 986,\n",
              " 'pick': 987,\n",
              " 'passes': 988,\n",
              " 'colbert': 989,\n",
              " 'hero': 990,\n",
              " 'opening': 991,\n",
              " 'said': 992,\n",
              " 'christian': 993,\n",
              " 'album': 994,\n",
              " 'happens': 995,\n",
              " 'problems': 996,\n",
              " 'nice': 997,\n",
              " 'character': 998,\n",
              " 'bear': 999,\n",
              " 'action': 1000,\n",
              " ...}"
            ]
          },
          "metadata": {
            "tags": []
          },
          "execution_count": 19
        }
      ]
    },
    {
      "cell_type": "code",
      "metadata": {
        "id": "erKaRCwgk4fw",
        "colab_type": "code",
        "colab": {}
      },
      "source": [
        "num_words = max(list(word_index.values())) + 1"
      ],
      "execution_count": 0,
      "outputs": []
    },
    {
      "cell_type": "markdown",
      "metadata": {
        "colab_type": "text",
        "id": "5hjeMi40XcB1"
      },
      "source": [
        "#**## Word Embedding**"
      ]
    },
    {
      "cell_type": "markdown",
      "metadata": {
        "colab_type": "text",
        "id": "bUF1TuQa8ux0"
      },
      "source": [
        "## Get Glove Word Embeddings"
      ]
    },
    {
      "cell_type": "code",
      "metadata": {
        "colab_type": "code",
        "id": "vq5AIfRtMeZh",
        "colab": {}
      },
      "source": [
        "glove_file = project_path + \"glove.6B.zip\""
      ],
      "execution_count": 0,
      "outputs": []
    },
    {
      "cell_type": "code",
      "metadata": {
        "colab_type": "code",
        "id": "DJLX_n2WMecA",
        "colab": {}
      },
      "source": [
        "#Extract Glove embedding zip file\n",
        "from zipfile import ZipFile\n",
        "with ZipFile(glove_file, 'r') as z:\n",
        "  z.extractall()"
      ],
      "execution_count": 0,
      "outputs": []
    },
    {
      "cell_type": "markdown",
      "metadata": {
        "colab_type": "text",
        "id": "9IuXlu8-U3HG"
      },
      "source": [
        "# Get the Word Embeddings using Embedding file as given below."
      ]
    },
    {
      "cell_type": "code",
      "metadata": {
        "colab_type": "code",
        "id": "elZ-T5aFGZmZ",
        "colab": {}
      },
      "source": [
        "EMBEDDING_FILE = './glove.6B.200d.txt'\n",
        "\n",
        "embeddings = {}\n",
        "for o in open(EMBEDDING_FILE):\n",
        "    word = o.split(\" \")[0]\n",
        "    # print(word)\n",
        "    embd = o.split(\" \")[1:]\n",
        "    embd = np.asarray(embd, dtype='float32')\n",
        "    # print(embd)\n",
        "    embeddings[word] = embd"
      ],
      "execution_count": 0,
      "outputs": []
    },
    {
      "cell_type": "code",
      "metadata": {
        "id": "r8rDTdgEwKJE",
        "colab_type": "code",
        "outputId": "5c741646-55db-4ef1-cb8a-8ddd1514e0fb",
        "colab": {
          "base_uri": "https://localhost:8080/",
          "height": 34
        }
      },
      "source": [
        "len(embeddings)"
      ],
      "execution_count": 23,
      "outputs": [
        {
          "output_type": "execute_result",
          "data": {
            "text/plain": [
              "400000"
            ]
          },
          "metadata": {
            "tags": []
          },
          "execution_count": 23
        }
      ]
    },
    {
      "cell_type": "markdown",
      "metadata": {
        "colab_type": "text",
        "id": "bTPxveDmVCrA"
      },
      "source": [
        "# Create a weight matrix for words in training docs"
      ]
    },
    {
      "cell_type": "code",
      "metadata": {
        "colab_type": "code",
        "id": "xQgOhiywU9nU",
        "outputId": "26387d6b-a9f1-4020-c017-271292b547bc",
        "colab": {
          "base_uri": "https://localhost:8080/",
          "height": 34
        }
      },
      "source": [
        "embedding_matrix = np.zeros((num_words, 200))\n",
        "\n",
        "for word, i in tokenizer.word_index.items():\n",
        "    embedding_vector = embeddings.get(word)\n",
        "    if embedding_vector is not None:\n",
        "        embedding_matrix[i] = embedding_vector\n",
        "\n",
        "len(embeddings.values())"
      ],
      "execution_count": 24,
      "outputs": [
        {
          "output_type": "execute_result",
          "data": {
            "text/plain": [
              "400000"
            ]
          },
          "metadata": {
            "tags": []
          },
          "execution_count": 24
        }
      ]
    },
    {
      "cell_type": "code",
      "metadata": {
        "id": "RMWnXjJQwY4a",
        "colab_type": "code",
        "outputId": "f4e96669-d6a4-49d0-f030-0ab5cc6236f7",
        "colab": {
          "base_uri": "https://localhost:8080/",
          "height": 238
        }
      },
      "source": [
        "embedding_matrix"
      ],
      "execution_count": 25,
      "outputs": [
        {
          "output_type": "execute_result",
          "data": {
            "text/plain": [
              "array([[ 0.        ,  0.        ,  0.        , ...,  0.        ,\n",
              "         0.        ,  0.        ],\n",
              "       [ 0.57345998,  0.54170001, -0.23477   , ...,  0.54417998,\n",
              "        -0.23069   ,  0.34946999],\n",
              "       [ 0.052924  ,  0.25426999,  0.31353   , ..., -0.086254  ,\n",
              "        -0.41916999,  0.46496001],\n",
              "       ...,\n",
              "       [ 0.56370002,  0.42438   ,  1.21969998, ..., -0.15029   ,\n",
              "        -0.08155   , -0.1043    ],\n",
              "       [ 0.        ,  0.        ,  0.        , ...,  0.        ,\n",
              "         0.        ,  0.        ],\n",
              "       [ 0.53964001, -0.53973001, -0.41780999, ...,  0.23913001,\n",
              "         0.51385999,  0.42449999]])"
            ]
          },
          "metadata": {
            "tags": []
          },
          "execution_count": 25
        }
      ]
    },
    {
      "cell_type": "markdown",
      "metadata": {
        "colab_type": "text",
        "id": "u7IbWuEX82Ra"
      },
      "source": [
        "## Create and Compile your Model  ( 14 marks)\n",
        "Hint - Use Sequential model instance and then add Embedding layer, Bidirectional(LSTM) layer, then dense and dropout layers as required. \n",
        "In the end add a final dense layer with sigmoid activation for binary classification.\n"
      ]
    },
    {
      "cell_type": "markdown",
      "metadata": {
        "colab_type": "text",
        "id": "IJFMxZwMWoTw"
      },
      "source": [
        "## Fit your model with a batch size of 100 and validation_split = 0.2. and state the validation accuracy ( 10 marks)\n"
      ]
    },
    {
      "cell_type": "code",
      "metadata": {
        "id": "jZETT5V27ZbJ",
        "colab_type": "code",
        "outputId": "858036ba-c970-49a8-e38a-45d0ad4d91af",
        "colab": {
          "base_uri": "https://localhost:8080/",
          "height": 425
        }
      },
      "source": [
        "model1 = Sequential()\n",
        "model1.add(Embedding(num_words, embedding_size, weights = [embedding_matrix]))\n",
        "model1.add(Bidirectional(LSTM(128, return_sequences = True)))\n",
        "model1.add(GlobalMaxPool1D())\n",
        "#model1.add(Flatten())\n",
        "model1.add(Dense(64, activation=\"relu\"))\n",
        "model1.add(Dropout(0.5))\n",
        "model1.add(Dense(32, activation=\"relu\"))\n",
        "model1.add(Dropout(0.5))\n",
        "model1.add(Dense(1, activation=\"sigmoid\"))\n",
        "model1.compile(loss='binary_crossentropy', optimizer='adam', metrics=['accuracy'])\n",
        "model1.summary()"
      ],
      "execution_count": 27,
      "outputs": [
        {
          "output_type": "stream",
          "text": [
            "Model: \"sequential_1\"\n",
            "_________________________________________________________________\n",
            "Layer (type)                 Output Shape              Param #   \n",
            "=================================================================\n",
            "embedding_1 (Embedding)      (None, None, 200)         5183200   \n",
            "_________________________________________________________________\n",
            "bidirectional_1 (Bidirection (None, None, 256)         336896    \n",
            "_________________________________________________________________\n",
            "global_max_pooling1d (Global (None, 256)               0         \n",
            "_________________________________________________________________\n",
            "dense_1 (Dense)              (None, 64)                16448     \n",
            "_________________________________________________________________\n",
            "dropout (Dropout)            (None, 64)                0         \n",
            "_________________________________________________________________\n",
            "dense_2 (Dense)              (None, 32)                2080      \n",
            "_________________________________________________________________\n",
            "dropout_1 (Dropout)          (None, 32)                0         \n",
            "_________________________________________________________________\n",
            "dense_3 (Dense)              (None, 1)                 33        \n",
            "=================================================================\n",
            "Total params: 5,538,657\n",
            "Trainable params: 5,538,657\n",
            "Non-trainable params: 0\n",
            "_________________________________________________________________\n"
          ],
          "name": "stdout"
        }
      ]
    },
    {
      "cell_type": "code",
      "metadata": {
        "id": "q17zSB1EM6Jj",
        "colab_type": "code",
        "outputId": "11353b09-89c1-48eb-856f-bfe250e5212a",
        "colab": {
          "base_uri": "https://localhost:8080/",
          "height": 204
        }
      },
      "source": [
        "batch_size = 100\n",
        "epochs = 5\n",
        "\n",
        "history = model1.fit(X_train, y_train, batch_size=batch_size, epochs=epochs, validation_split=0.2)"
      ],
      "execution_count": 29,
      "outputs": [
        {
          "output_type": "stream",
          "text": [
            "Train on 16026 samples, validate on 4007 samples\n",
            "Epoch 1/5\n",
            "16026/16026 [==============================] - 195s 12ms/sample - loss: 0.5495 - accuracy: 0.7117 - val_loss: 0.3851 - val_accuracy: 0.8293\n",
            "Epoch 2/5\n",
            "16026/16026 [==============================] - 195s 12ms/sample - loss: 0.3341 - accuracy: 0.8695 - val_loss: 0.3472 - val_accuracy: 0.8540\n",
            "Epoch 3/5\n",
            "16026/16026 [==============================] - 198s 12ms/sample - loss: 0.2247 - accuracy: 0.9205 - val_loss: 0.3368 - val_accuracy: 0.8555\n",
            "Epoch 4/5\n",
            "16026/16026 [==============================] - 199s 12ms/sample - loss: 0.1481 - accuracy: 0.9500 - val_loss: 0.3789 - val_accuracy: 0.8508\n",
            "Epoch 5/5\n",
            "16026/16026 [==============================] - 199s 12ms/sample - loss: 0.0929 - accuracy: 0.9704 - val_loss: 0.5190 - val_accuracy: 0.8510\n"
          ],
          "name": "stdout"
        }
      ]
    },
    {
      "cell_type": "code",
      "metadata": {
        "id": "yl6RNwK_y1wo",
        "colab_type": "code",
        "colab": {
          "base_uri": "https://localhost:8080/",
          "height": 88
        },
        "outputId": "2d0b4e1e-d10e-4a93-db93-5e09422bd796"
      },
      "source": [
        "print(model1.evaluate(X_test, y_test))\n",
        "print(model1.metrics_names)"
      ],
      "execution_count": 30,
      "outputs": [
        {
          "output_type": "stream",
          "text": [
            "\r8586/1 [============================================================================================================================================================================================================================================================================================================================================================================================================================================================================================================================================================================================================================================================================================================================================================================================================================================================================================================================================================================================================================================================================================================================================================================================================================================================================================================================================================================================================================================================================================================================================================================================================================================================================================================================================================================================================================================================================================================================================================================================================================================================================================================================================================================================================================================================================================================================================================================================================================================================================================================================================================================================================================================================================================================================================================================================================================================================================================================================================================================================================================================================================================================================================================================================================================================================================================================================================================================================================================================================================================================================================================================================================================================================================================================================================================================================================================================================================================================================================================================================================================================================================================================================================================================================================================================================================================================================================================================================================================================================================================================================================================================================================================================================================================================================================================================================================================================================================================================================================================================================================================================================================================================================================================================================================================================================================================================================================================================================================================================================================================================================================================================================================================================================================================================================================================================================================================================================================================================================================================================================================================================================================================================================================================================================================================================================================================================================================================================================================================================================================================================================================================================================================================================================================================================================================================================================================================================================================================================================================================================================================================================================================================================================================================================================================================================================================================================================================================================================================================================================================================================================================================================================================================================================================================================================================================================================================================================================================================================================================================================================================================================================================================================================================================================================================================================================================================================================================================================================================================================================================================================================================================================================================================================================================================================================================================================================================================================================================================================================================================================================================================================================================================================================================================================================================================================================================================================================================================================================================================================================================================================================================================================================================================================================================================================================================================================================================================================================================================================================================================================================================================================================================================================================================================================================================================================================================================================================================================================================================================================================================================================================================================================================================================================================================================================================================================================================================================================================================================================================================================================================================================================================================================================================================================================================================================================================================================================================================================================================================================================================================================================================================================================================================================================================================================================================================================================================================================================================================================================================================================================================================================================================================================================================================================================================================================================================================================================================================================================================================================================================================================================================================================================================================================================================================================================================================================================================================================================================================================================================================================================================================================================================================================================================================================================================================================================================================================================================================================================================================================================================================================================================================================================================================================================================================================================================================================================================================================================================================================================================================================================================================================================================================================================================================================================================================================================================================================================================================================================================================================================================================================================================================================================================================================================================================================================================================================================================================================================================================================================================================================================================================================================================================================================================================================================================================================================================================================================================================================================================================================================================================================================================================================================================================================================================================================================================================================================================================================================================================================================================================================================================================================================================================================================================================================================================================================================================================================================================================================================================================================================================================================================================================================================================================================================================================================================================================================================================================================================================================================================================================================================================================================================================================================================================================================================================================================================================================================================================================================================================================================================================================================================================================================================================================================================================================================================================================================================================================================================================================================================================================================================================================================================================================================================================================================================================================================================================================================================================================================================================================================================================================================================================================================================================================================================================================================================================================================================================================================================================================================================================================================================================================================================================================================================================================================================================================================================================================================================================================================================================================================================================================================================================================================================================================================================================================================================================================================================================================================================================================================================================================================================================================================================================================================================================================================================================================================================================================================================================================================================================================================================================================================================================================================================================================================================================================================================================================================================================================================================================================================================================================================================================================================================================================================================================================================================================================================================================================================================================================================================================================================================================================================================================================================================================================================================================================================================================================================================================================================================================================================================================================================================================================================================================================================================================================================================================================================================================================================================================================================================================================================================================================================================================================================================================================================================================================================================================================================================================================================================================================================================================================================================================================================================================================================================================================================================================================================================================================================================================================================================================================================================================================================================================================================================================================================================================================================================================================================================================================================================================================================================================================================================================================================================================================================================================================================================================================================================================================================================================================================================================================================================================================================================================================================================================================================================================================================================================================================================================================================================================================================================================================================================================================================================================================================================================================================================================================================================================================================================================================================================================================================================================================================================================================================================================================================================================================================================================================================================================================================================================================================================================================================================================================================================================================================================================================================================================================================================================================================================================================================================================================================================================================================================================================================================================================================================================================================================================================================================================================================================================================================================================================================================================================================================================================================================================================================================================================================================================================================================================================================================================================================================================================================================================================================================================================================================================================================================================================================================================================================================================================================================================================================================================================================================================================================================================================================================================================================================================================================================================================================================================================================================================================================================================================================================================================================================================================================================================================================================================================================================================================================================================================================================================================================================================================================================================================================================================================================================================================================================================================================================================================================================================================================================================================================================================================================================================================================================================================================================================================================================================================================================================================================================================================================================================================================================================================================================================================================================================================================================================================================================================================================================================================================================================================================================================================================================================================================================================================================================================================================================================================================================================================================================================================================================================================================================================================================================================================================================================================================================================================================================================================================================================================================================================================================================================================================================================================================================================================================================================================================================================================================================================================================================================================================================================================================================================================================================================================================================================================================================================================================================================================================================================================================================================================================================================================================================================================================================================================================================================================================================================================================================================================================================================================================================================================================================================================================================================================================================================================================================================================================================================================================================================================================================================================================================================================================================================================================================================================================================================================================================================================================================================================================================================================================================================================================================================================================================================================================================================================================================================================================================================================================================================================================================================================================================================================================================================================================================================================================================================================================================================================================================================================================================================================================================================================================================================================================================================================================================================================================================================================================================================================================================================================================================================================================================================================================================================================================================================================================================================================================================================================================================================================================================================================================================================================================================================================================================================================================================================================================================================================================================================================================================================================================================================================================================================================================================================================================================================================================================================================================================================================================================================================================================================================================================================================================================================================================================================================================================================================================================================================================================================================================================================================================================================================================================================================================================================================================================================================================================================================================================================================================================================================================================================================================================================================================================================================================================================================================================================================================================================================================================================================================================================================================================================================================================================================================================================================================================================================================================================================================================================================================================================================================================================================================================================================================================================================================================================================================================================================================================================================================================================================================================================================================================================================================================================================================================================================================================================================================================================================================================================================================================================================================================================================================================================================================================================================================================================================================================================================================================================================================================================================================================================================================================================================================================================================================================================================================================================================================================================================================================================================================================================================================================================================================================================================================================================================================================================================================================================================================================================================================================================================================================================================================================================================================================================================================================================================================================================================================================================================================================================================================================================================================================================================================================================================================================================================================================================================================================================================================================================================================================================================================================================================================================================================================================================================================================================================================================================================================================================================================================================================================================================================================================================================================================================================================================================================================================================================================================================================================================================================================================================================================================================================================================================================================================================================================================================================================================================================================================================================================================================================================================================================================================================================================================================================================================================================================================================================================================================================================================================================================================================================================================================================================================================================================================================================================================================================================================================================================================================================================================================================================================================================================================================================================================================================================================================================================================================================================================================================================================================================================================================================================================================================================================================================================================================================================================================================================================================================================================================================================================================================================================================================================================================================================================================================================================================================================================================================================================================================================================================================================================================================================================================================================================================================================================================================================================================================================================================================================================================================================================================================================================================================================================================================================================================================================================================================================================================================================================================================================================================================================================================================================================================================================================================================================================================================================================================================================================================================================================================================================================================================================================================================================================================================================================================================================================================================================================================================================================================================================================================================================================================================================================================================================================================================================================================================================================================================================================================================================================================================================================================================================================================================================================================================================================================================================================================================================================================================================================================================================================================================================================================================================================================================================================================================================================================================================================================================================================================================================================================================================================================================================================================================================================================================================================================================================================================================================================================================================================================================================================================================================================================================================================================================================================================================================================================================================================================================================================================================================================================================================================================================================================================================================================================================================================================================================================================================================================================================================================================================================================================================================================================================================================================================================================================================================================================================================================================================================================================================================================================================================================================================================================================================================================================================================================================================================================================================================================================================================================================================================================================================================================================================================================================================================================================================================================================================================================================================================================================================================================================================================================================================================================================================================================================================================================================================================================================================================================================================================================================================================================================================================================================================================================================================================================================================================================================================================================================================================================================================================================================================================================================================================================================================================================================================================================================================================================================================================================================================================================================================================================================================================================================================================================================================================================================================================================================================================================================================================================================================================================================================================================================================================================================================================================================================================================================================================================================================================================================================================================================================================================================================================================================================================================================================================================================================================================================================================================================================================================================================================================================================================================================================================================================================================================================================================================================================================================================================================================================================================================================================================================================================================================================================================================================================================================================================================================================================================================================================================================================================================================================================================================================================================================================================================================================================================================================================================================================================================================================================================================================================================================================================================================================================================================================================================================================================================================================================================================================================================================================================================================================================================================================================================================================================================================================================================================================================================================================================================================================================================================================================================================================================================================================================================================================================================================================================================================================================================================================================================================================================================================================================================================================================================================================================================================================================================================================================================================================================================================================================================================================================================================================================================================================================================================================================================================================================================================================================================================================================================================================================================================================================================================================================================================================================================================================================================================================================================================================================================================================================================================================================================================================================================================================================================================================================================================================================================================================================================================================================================================================================================================================================================================================================================================================================================================================================================================================================================================================================================================================================================================================================================================================================================================================================================================================================================================================================================================================================================================================================================================================================================================================================================================================================================================================================================================================================================================================================================================================================================================================================================================================================================================================================================================================================================================================================================================================================================================================================================================================================================================================================================================================================================================================================================================================================================================================================================================================================================================================================================================================================================================================================================================================================================================================================================================================================================================================================================================================================================================================================================================================================================================================================================================================================================================================================================================================================================================================================================================================================================================================================================================================================================================================================================================================================================================================================================================================================================================================================================================================================================================================================================================================================================================================================================================================================================================================================================================================================================================================================================================================================================================================================================================================================================================================================================================================================================================================================================================================================================================================================================================================================================================================================================================================================================================================================================================================================================================================================================================================================================================================================================================================================================================================================================================================================================================================================================================================================================================================================================================================================================================================================================================================================================================================================================================================================================================================================================================================================================================================================================================================================================================================================================================================================================================================================================================================================================================================================================================================================================================================================================================================================================================================================================================================================================================================================================================================================================================================================================================================================================================================================================================================================================================================================================================================================================================================================================================================================================================================================================================================================================================================================================================================================================================================================================================================================================================================================================================================================================================================================================================================================================================================================================================================================================================================================================================================================================================================================================================================================================================================================================================================================================================================================================================================================================================================================================================================================================================================================================================================================================================================================================================================================================================================================================================================================================================================================================================================================================================================================================================================================================================================================================================================================================================================================================================================================================================================================================================================================================================================================================================================================================================================================================================================================================================================================================================================================================================================================================================================================================================================================================================================================================================================================================================================================================================================================================================================================================================================================================================================================================================================================================================================================================================================================================================================================================================================================================================================================================================================================================================================================================================================================================================================================================================================================================================================================================================================================================================================================================================================================================================================================================================================================================================================================================================================================================================================================================================================================================================================================================================================================================================================================================================================================================================================================================================================================================================================================================================================================================================================================================================================================================================================================================================================================================================================================================================================================================================================================================================================================================================================================================================================================================================================================================================================================================================================================================================================================================================================================================================================================================================================================================================================================================================================================================================================================================================================================================================================================================================================================================================================================================================================================================================================================================================================================================================================================================================================================================================================================================================================================================================================================================================================================================================================================================================================================================================================================================================================================================================================================================================================================================================================================================================================================================================================================================================================================================================================================================================================================================================================================================================================================================================================================================================================================================================================================================================================================================================================================================================================================================================================================================================================================================================================================================================================================================================================================================================================================================================================================================================================================================================================================================================================================================================================================================================================================================================================================================================================================================================================================================================================================================================================================================================================================================================================================================================================================================================================================================================================================================================================================================================================================================================================================================================================================================================================================================================================================================================================================================================================================================================================================================================================================================================================================================================================================================================================================================================================================================================================================================================================================================================================================================================================================================================================================================================================================================================================================================================================================================================================================================================================================================================================================================================================================================================================================================================================================================================================================================================================================================================================================================================================================================================================================================================================================================================================================================================================================================================================================================================================================================================================================================================================================================================================================================================================================================================================================================================================================================================================================================================================================================================================================================================================================================================================================================================================================================================================================================================================================================================================================================================================================================================================================================================================================================================================================================================================================================================================================================================================================================================================================================================================================================================================================================================================================================================================================================================================================================================================================================================================================================================================================================================================================================================================================================================================================================================================================================================================================================================================================================================================================================================================================================================================================================================================================================================================================================================================================================================================================================================================================================================================================================================================================================================================================================================================================================================================================================================================================================================================================================================================================================================================================================================================================================================================================================================================================================================================================================================================================================================================================================================================================================================================================================================================================================================================================================================================================================================================================================================================================================================================================================================================================================================================================================================================================================================================================================================================================================================================================================================================================================================================================================================================================================================================================================================================================================================================================================================================================================================================================================================================================================================================================================================================================================================================================================================================================================================================================================================================================================================================================================================================================================================================================================================================================================================================================================================================================================================================================================================================================================================================================================================================================================================================================================================================================================================================================================================================================================================================================================================================================================================================================================================================================================================================================================================================================================================================================================================================================================================================================================================================================================================================================================================================================================================================================================================================================================================================================================================================================================================================================================================================================================================================================================================================================================================================================================================================================================================================================================================================================================================================================================================================================================================================================================================================================================================================================================================================================================================================================================================================================================================================================================================================================================================================================================================================================================================================================================================================================================================================================================================================================================================================================================================================================================================================================================================================================================================================================================================================================================================================================================================================================================================================================================================================================================================================================================================================================================================================================================================================================================================================================================================================================================================================================================================================================================================================================================================================================================================================================================================================================================================================================================================================================================================================================================================================================================================================================================================================================================================================================================================================================================================================================================================================================================================================================================================================================================================================================================================================================================================================================================================================================================================================================================================================================================================================================================================================================================================================================================================================================================================================================================================================================================================================================================================================================================================================================================================================================================================================================================================================================================================================================================================================================================================================================================================================================================================================================================================================================================================================================================================================================================================================================================================================================================================================================================================================================================================================================================================================================================================================================================================================================================================================================================================================================================================================================================================================================================================================================================================================================================================================================================================================================================================================================================================================================================================================================================================================================================================================================================================================================================================================================================================================================================================================================================================================================================================================================================================================================================================================================================================================================================================================================================================================================================================================================================================================================================================================================================================================================================================================================================================================================================================================================================================================================================================================================================================================================================================================================================================================================================================================================================================================================================================================================================================================================================================================================================================================================================================================================================================================================================================================================================================================================================================================================================================================================================================================================================================================================================================================================================================================================================================================================================================================================================================================================================================================================================================================================================================================================================================================================================================================================================================================================================================================================================================================================================================================================================================================================================================================================================================================================================================================================================================================================================================================================================================================================================================================================================================================================================================================================================================================================================================================================================================================================================================================================================================================================================================================================================================================================================================================================================================================================================================================================================================================================================================================================================================================================================================================================================================================================================================================================================================================================================================================================================================================================================================================================================================================================================================================================================================================================================================================================================================================================================================================================================================================================================================================================================================================================================================================================================================================================================================================================================================================================================================================================================================================================================================================================================================================================================================================================================================================================================================================================================================================================================================================================================================================================================================================================================================================================================================================================================================================================================================================================================================================================================================================================================================================================================================================================================================================================================================================================================================================================================================================================================================================================================================================================================================================================================================================================================================================================================================================================================================================================================================================================================================================================================================================================================================================================================================================================================================================================================================================================================================================================================================================================================================================================================================================================================================================================================================================================================================================================================================================================================================================================================================================================================================================================================================================================================================================================================================================================================================================================================================================================================================================================================================================================================================================================================================================================================================================================================================================================================================================================================================================================================================================================================================================================================================================================================================================================================================================================================================================================================================================================================================================================================================================================================================================================================================================================================================================================================================================================================================================================================================================================================================================================================================================================================================================================================================================================================================================================================================================================================================================================================================================================================================================================================================================================================================================================================================================================================================================================================================================================================================================================================================================================================================================================================================================================================================================================================================================================================================================================================================================================================================================================================================================================================================================================================================================================================================================================================================================================================================================================================================================================================================================================================================================================================================================================================================================================================================================================================================================================================================================================================================================================================================================================================================================================================================================================================================================================================================================================================================================================================================================================================================================================================================================================================================================================================================================================================================================================================================================================================================================================================================================================================================================================================================================================================================================================================================================================================================================================================================================================================================================================================================================================================================================================================================================================================================================================================================================================================================================================================================================================================================================================================================================================================================================================================================================================================================================================================================================================================================================================================================================================================================================================================================================================================================================================================================================================================================================================================================================================================================================================================================================================================================================================================================================================================================================================================================================================================================================================================================================================================================================================================================================================================================================================================================================================================================================================================================================================================================================================================================================================================================================================================================================================================================================================================================================================================================================================================================================================================================================================================================================================================================================================================================================================================================================================================================================================================================================================================================================================================================================================================================================================================================================================================================================================================================================================================================================================================================================================================================================================================================================================================================================================================================================================================================================================================================================================================================================================================================================================================================================================================================================================================================================================================================================================================================================================================================================================================================================================================================================================================================================================================================================================================================================================================================================================================================================================================================================================================================================================================================================================================================================================================================================================================================================================================================================================================================================================================================================================================================================================================================================================================================================================================================================================================================================================================================================================================================================================================================================================================================================================================================================================================================================================================================================================================================================================================================================================================================================================================================================================================================================================================================================================================================================================================================================================================================================================================================================================================================================================================================================================================================================================================================================================================================================================================================================================================================================================================================================================================================================================================================================================================================================================================================================================================================================================================================================================================================================================================================================================================================================================================================================================================================================================================================================================================================================================================================================================================================================================================================================================================================================================================================================================================================================================================================================================================================================================================================================================================================================================================================================================================================================================================================================================================================================================================================================================================================================================================================================================================================================================================================================================================================================================================================================================================================================================================================================================================================================================================================================================================================================================================================================================================================================================================================================================================================================================================================================================================================================================================================================================================================================================================================================================================================================================================================================================================================================================================================================================================================================================================================================================================================================================================================================================================================================================================================================================================================================================================================================================================================================================================================================================================================================================================================================================================================================================================================================================================================================================================================================================================================================================================================================================================================================================================================================================================================================================================================================================================================================================================================================================================================================================================================================================================================================================================================================================================================================================================================================================================================================================================================================================================================================================================================================================================================================================================================================================================================================================================================================================================================================================================================================================================================================================================================================================================================================================================================================================================================================================================================================================================================================================================================================================================================================================================================================================================================================================================================================================================================================================================================================================================================================================================================================================================================================================================================================================================================================================================================================================================================================================================================================================================================================================================================================================================================================================================================================================================================================================================================================================================================================================================================================================================================================================================================================================================================================================================================================================================================================================================================================================================================================================================================================================================================================================================================================================================================================================================================================================================================================================================================================================================================================================================================================================================================================================================================================================================================================================================================================================================================================================================================================================================================================================================================================================================================================================================================================================================================================================================================================================================================================================================================================================================================================================================================================================================================================================================================================================================================================================================================================================================================================================================================================================================================================================================================================================================================================================================================================================================================================================================================================================================================================================================================================================================================================================================================================================================================================================================================================================================================================================================================================================================================================================================================================================================================================================================================================================================================================================================================================================================================================================================================================================================================================================================================================================================================================================================================================================================================================================================================================================================================================================================================================================================================================================================================================================================================================================================================================================================================================================================================================================================================================================================================================================================================================================================================================================================================================================================================================================================================================================================================================================================================================================================================================================================================================================================================================================================================================================================================================================================================================================================================================================================================================================================================================================================================================================================================================================================================================================================================================================================================================================================================================================================================================================================================================================================================================================================================================================================================================================================================================================================================================================================================================================================================================================================================================================================================================================================================================================================================================================================================================================================================================================================================================================================================================================================================================================================================================================================================================================================================================================================================================================================================================================================================================================================================================================================================================================================================================================================================================================================================================================================================================================================================================================================================================================================================================================================================================================================================================================================================================================================================================================================================================================================================================================================================================================================================================================================================================================================================================================================================================================================================================================================================================================================================================================================================================================================================================================================================================================================================================================================================================================================================================================================================================================================================================================================================================================================================================================================================================================================================================================================================================================================================================================================================================================================================================================================================================================================================================================================================================================================================================================================================================================================================================================================================================================================================================================================================================================================================================================================================================================================================================================================================================================================================================================================================================================================================================================================================================================================================================================================================================================================================================================================================================================================================================================================================================================================================================================================================================================================================================================================================================================================================================================================================================================================================================================================================================================================================================================================================================================================================================================================================================================================================================================================================================================================================================================================================================================================================================================================================================================================================================================================================================================================================================================================================================================================================================================================================================================================================================================================================================================================================================================================================================================================================================================================================================================================================================================================================================================================================================================================================================================================================================================================================================================================================================================================================================================================================================================================================================================================================================================================================================================================================================================================================================================================================================================================================================================================================================================================================================================================================================================================================================================================================================================================================================================================================================================================================================================================================================================================================================================================================================================================================================================================================================================================================================================================================================================================================================================================================================================================================================================================================================================================================================================================================================================================================================================================================================================================================================================================================================================================================================================================================================================================================================================================================================================================================================================================================================================================================================================================================================================================================================================================================================================================================================================================================================================================================================================================================================================================================================================================================================================================================================================================================================================================================================================================================================================================================================================================================================================================================================================================================================================================================================================================================================================================================================================================================================================================================================================================================================================================================================================================================================================================================================================================================================================================================================================================================================================================================================================================================================================================================================================================================================================================================================================================================================================================================================================================================================================================================================================================================================================================================================================================================================================================================================================================================================================================================================================================================================================================================================================================================================================================================================================================================================================================================================================================================================================================================================================================================================================================================================================================================================================================================================================================================================================================================================================================================================================================================================================================================================================================================================================================================================================================================================================================================================================================================================================================================================================================================================================================================================================================================================================================================================================================================================================================================================================================================================================================================================================================================================================================================================================================================================================================================================================================================================================================================================================================================================================================================================================================================================================================================================================================================================================================================================================================================================================================================================================================================================================================================================================================================================================================================================================================================================================================================================================================================================================================================================================================================================================================================================================================================================================================================================================================================================================================================================================================================================================================================================================================================================================================================================================================================================================================================================================================================================================================================================================================================================================================================================================================================================================================================================================================================================================================================================================================================================================================================================================================================================================================================================================================================================================================================================================================================================================================================================================================================================================================================================================================================================================================================================================================================================================================================================================================================================================================================================================================================================================================================================================================================================================================================================================================================================================================================================================================================================================================================================================================================================================================================================================================================================================================================================================================================================================================================================================================================================================================================================================================================================================================================================================================================================================================================================================================================================================================================================================================================================================================================================================================================================================================================================================================================================================================================================================================================================================================================================================================================================================================================================================================================================================================================================================================================================================================================================================================================================================================================================================================================================================================================================================================================================================================================================================================================================================================================================================================================================================================================================================================================================================================================================================================================================================================================================================================================================================================================================================================================================================================================================================================================================================================================================================================================================================================================================================================================================================================================================================================================================================================================================================================================================================================================================================================================================================================================================================================================================================================================================================================================================================================================================================================================================================================================================================================================================================================================================================================================================================================================================================================================================================================================================================================================================================================================================================================================================================================================================================================================================================================================================================================================================================================================================================================================================================================================================================================================================================================================================================================================================================================================================================================================================================================================================================================================================================================================================================================================================================================================================================================================================================================================================================================================================================================================================================================================================================================================================================================================================================================================================================================================================================================================================================================================================================================================================================================================================================================================================================================================================================================================================================================================================================================================================================================================================================================================================================================================================================================================================================================================================================================================================================================================================================================================================================================================================================================================================================================================================================================================================================================================================================================================================================================================================================================================================================================================================================================================================================================================================================================================================================================================================================================================================================================================================================================================================================================================================================================================================================================================================================================================================================================================================================================================================================================================================================================================================================================================================================================================================================================================================================================================================================================================================================================================================================================================================================================================================================================================================================================================================================================================================================================================================================================================================================================================================================================================================================================================================================================================================================================================================================================================================================================================================================================================================================================================================================================================================================================================================================================================================================================================================================================================================================================================================================================================================================================================================================================================================================================================================================================================================================================================================================================================================================================================================================================================================================================================================================================================================================================================================================================================================================================================================================================================================================================================================================================================================================================================================================================================================================================================================================================================================================================================================================================================================================================================================================================================================================================================================================================================================================================================================================================================================================================================================================================================================================================================================================================================================================================================================================================================================================================================================================================================================================================================================================================================================================================================================================================================================================================================================================================================================================================================================================================================================================================================================================================================================================================================================================================================================================================================================================================================================================================================================================================================================================================================================================================================================================================================================================================================================================================================================================================================================================================================================================================================================================================================================================================================================================================================================================================================================================================================================================================================================================================================================================================================================================================================================================================================================================================================================================================================================================================================================================================================================================================================================================================================================================================================================================================================================================================================================================================================================================================================================================================================================================================================================================================================================================================================================================================================================================================================================================================================================================================================================================================================================================================================================================================================================================================================================================================================================================================================================================================================================================================================================================================================================================================================================================================================================================================================================================================================================================================================================================================================================================================================================================================================================================================================================================================================================================================================================================================================================================================================================================================================================================================================================================================================================================================================================================================================================================================================================================================================================================================================================================================================================================================================================================================================================================================================================================================================================================================================================================================================================================================================================================================================================================================================================================================================================================================================================================================================================================================================================================================================================================================================================================================================================================================================================================================================================================================================================================================================================================================================================================================================================================================================================================================================================================================================================================================================================================================================================================================================================================================================================================================================================================================================================================================================================================================================================================================================================================================================================================================================================================================================================================================================================================================================================================================================================================================================================================================================================================================================================================================================================================================================================================================================================================================================================================================================================================================================================================================================================================================================================================================================================================================================================================================================================================================================================================================================================================================================================================================================================================================================================================================================================================================================================================================================================================================================================================================================================================================================================================================================================================================================================================================================================================================================================================================================================================================================================================================================================================================================================================================================================================================================================================================================================================================================================================================================================================================================================================================================================================================================================================================================================================================================================================================================================================================================================================================================================================================================================================================================================================================================================================================================================================================================================================================================================================================================================================================================================================================================================================================================================================================================================================================================================================================================================================================================================================================================================================================================================================================================================================================================================================================================================================================================================================================================================================================================================================================================================================================================================================================================================================================================================================================================================================================================================================================================================================================================================================================================================================================================================================================================================================================================================================================================================================================================================================================================================================================================================================================================================================================================================================================================================================================================================================================================================================================================================================================================================================================================================================================================================================================================================================================================================================================================================================================================================================================================================================================================================================================================================================================================================================================================================================================================================================================================================================================================================================================================================================================================================================================================================================================================================================================================================================================================================================================================================================================================================================================================================================================================================================================================================================================================================================================================================================================================================================================================================================================================================================================================================================================================================================================================================================================================================================================================================================================================================================================================================================================================================================================================================================================================================================================================================================================================================================================================================================================================================================================================================================================================================================================================================================================================================================================================================================================================================================================================================================================================================================================================================================================================================================================================================================================================================================================================================================================================================================================================================================================================================================================================================================================================================================================================================================================================================================================================================================================================================================================================================================================================================================================================================================================================================================================================================================================================================================================================================================================================================================================================================================================================================================================================================================================================================================================================================================================================================================================================================================================================================================================================================================================================================================================================================================================================================================================================================================================================================================================================================================================================================================================================================================================================================================================================================================================================================================================================================================================================================================================================================================================================================================================================================================================================================================================================================================================================================================================================================================================================================================================================================================================================================================================================================================================================================================================================================================================================================================================================================================================================================================================================================================================================================================================================================================================================================================================================================================================================================================================================================================================================================================================================================================================================================================================================================================================================================================================================================================================================================================================================================================================================================================================================================================================================================================================================================================================================================================================================================================================================================================================================================================================================================================================================================================================================================================================================================================================================================================================================================================================================================================================================================================================================================================================================================================================================================================================================================================================================================================================================================================================================================================================================================================================================================================================================================================================================================================================================================================================================================================================================================================================================================================================================================================================================================================================================================================================================================================================================================================================================================================================================================================================================================================================================================================================================================================================================================================================================================================================================================================================================================================================================================================================================================================================================================================================================================================================================================================================================================================================================================================================================================================================================================================================================================================================================================================================================================================================================================================================================================================================================================================================================================================================================================================================================================================================================================================================================================================================================================================================================================================================================================================================================================================================================================================================================================================================================================================================================================================================================================================================================================================================================================================================================================================================================================================================================================================================================================================================================================================================================================================================================================================================================================================================================================================================================================================================================================================================================================================================================================================================================================================================================================================================================================================================================================================================================================================================================================================================================================================================================================================================================================================================================================================================================================================================================================================================================================================================================================================================================================================================================================================================================================================================================================================================================================================================================================================================================================================================================================================================================================================================================================================================================================================================================================================================================================================================================================================================================================================================================================================================================================================================================================================================================================================================================================================================================================================================================================================================================================================================================================================================================================================================================================================================================================================================================================================================================================================================================================================================================================================================================================================================================================================================================================================================================================================================================================================================================================================================================================================================================================================================================================================================================================================================================================================================================================================================================================================================================================================================================================================================================================================================================================================================================================================================================================================================================================================================================================================================================================================================================================================================================================================================================================================================================================================================================================================================================================================================================================================================================================================================================================================================================================================================================================================================================================================================================================================================================================================================================================================================================================================================================================================================================================================================================================================================================================================================================================================================================================================================================================================================================================================================================================================================================================================================================================================================================================================================================================================================================================================================================================================================================================================================================================================================================================================================================================================================================================================================================================================================================================================================================================================================================================================================================================================================================================================================================================================================================================================================================================================================================================================================================================================================================================================================================================================================================================================================================================================================================================================================================================================================================================================================================================================================================================================================================================================================================================================================================================================================================================================================================================================================================================================================================================================================================================================================================================================================================================================================================================================================================================================================================================================================================================================================================================================================================================================================================================================================================================================================================================================================================================================================================================================================================================================================================================================================================================================================================================================================================================================================================================================================================================================================================================================================================================================================================================================================================================================================================================================================================================================================================================================================================================================================================================================================================================================================================================================================================================================================================================================================================================================================================================================================================================================================================================================================================================================================================================================================================================================================================================================================================================================================================================================================================================================================================================================================================================================================================================================================================================================================================================================================================================================================================================================================================================================================================================================================================================================================================================================================================================================================================================================================================================================================================================================================================================================================================================================================================================================================================================================================================================================================================================================================================================================================================================================================================================================================================================================================================================================================================================================================================================================================================================================================================================================================================================================================================================================================================================================================================================================================================================================================================================================================================================================================================================================================================================================================================================================================================================================================================================================================================================================================================================================================================================================================================================================================================================================================================================================================================================================================================================================================================================================================================================================================================================================================================================================================================================================================================================================================================================================================================================================================================================================================================================================================================================================================================================================================================================================================================================================================================================================================================================================================================================================================================================================================================================================================================================================================================================================================================================================================================================================================================================================================================================================================================================================================================================================================================================================================================================================================================================================================================================================================================================================================================================================================================================================================================================================================================================================================================================================================================================================================================================================================================================================================================================================================================================================================================================================================================================================================================================================================================================================================================================================================================================================================================================================================================================================================================================================================================================================================================================================================================================================================================================================================================================================================================================================================================================================================================================================================================================================================================================================================================================================================================================================================================================================================================================================================================================================================================================================================================================================================================================================================================================================================================================================================================================================================================================================================================================================================================================================================================================================================================================================================================================================================================================================================================================================================================================================================================================================================================================================================================================================================================================================================================================================================================================================================================================================================================================================================================================================================================================================================================================================================================================================================================================================================================================================================================================================================================================================================================================================================================================================================================================================================================================================================================================================================================================================================================================================================================================================================================================================================================================================================================================================================================================================================================================================================================================================================================================================================================================================================================================================================================================================================================================================================================================================================================================================================================================================================================================================================================================================================================================================================================================================================================================================================================================================================================================================================================================================================================================================================================================================================================================================================================================================================================================================================================================================================================================================================================================================================================================================================================================================================================================================================================================================================================================================================================================================================================================================================================================================================================================================================================================================================================================================================================================================================================================================================================================================================================================================================================================================================================================================================================================================================================================================================================================================================================================================================================================================================================================================================================================================================================================================================================================================================================================================================================================================================================================================================================================================================================================================================================================================================================================================================================================================================================================================================================================================================================================================================================================================================================================================================================================================================================================================================================================================================================================================================================================================================================================================================================================================================================================================================================================================================================================================================================================================================================================================================================================================================================================================================================================================================================================================================================================================================================================================================================================================================================================================================================================================================================================================================================================================================================================================================================================================================================================================================================================================================================================================================================================================================================================================================================================================================================================================================================================================================================================================================================================================================================================================================================================================================================================================================================================================================================================================================================================================================================================================================================================================================================================================================================================================================================================================================================================================================================================================================================================================================================================================================================================================================================================================================================================================================================================================================================================================================================================================================================================================================================================================================================================================================================================================================================================================================================================================================================================================================================================================================================================================================================================================================================================================================================================================================================================================================================================================================================================================================================================================================================================================================================================================================================================================================================================================================================================================================================================================================================================================================================================================================================================================================================================================================================================================================================================================================================================================================================================================================================================================================================================================================================================================================================================================================================================================================================================================================================================================================================================================================================================================================================================================================================================================================================================================================================================================================================================================================================================================================================================================================================================================================================================================================================================================================================================================================================================================================================================================================================================================================================================================================================================================================================================================================================================================================================================================================================================================================================================================================================================================================================================================================================================================================================================================================================================================================================================================================================================================================================================================================================================================================================================================================================================================================================================================================================================================================================================================================================================================================================================================================================================================================================================================================================================================================================================================================================================================================================================================================================================================================================================================================================================================================================================================================================================================================================================================================================================================================================================================================================================================================================================================================================================================================================================================================================================================================================================================================================================================================================================================================================================================================================================================================================================================================================================================================================================================================================================================================================================================================================================================================================================================================================================================================================================================================================================================================================================================================================================================================================================================================================================================================================================================================================================================================================================================================================================================================================================================================================================================================================================================================================================================================================================================================================================================================================================================================================================================================================================================================================================================================================================================================================================================================================================================================================================================================================================================================================================================================================================================================================================================================================================================================================================================================================================================================================================================================================================================================================================================================================================================================================================================================================================================================================================================================================================================================================================================================================================================================================================================================================================================================================================================================================================================================================================================================================================================================================================================================================================================================================================================================================================================================================================================================================================================================================================================================================================================================================================================================================================================================================================================================================================================================================================================================================================================================================================================================================================================================================================================================================================================================================================================================================================================================================================================================================================================================================================================================================================================================================================================================================================================================================================================================================================================================================================================================================================================================================================================================================================================================================================================================================================================================================================================================================================================================================================================================================================================================================================================================================================================================================================================================================================================================================================================================================================================================================================================================================================================================================================================================================================================================================================================================================================================================================================================================================================================================================================================================================================================================================================================================================================================================================================================================================================================================================================================================================================================================================================================================================================================================================================================================================================================================================================================================================================================================================================================================================================================================================================================================================================================================================================================================================================================================================================================================================================================================================================================================================================================================================================================================================================================================================================================================================================================================================================================================================================================================================================================================================================================================================================================================================================================================================================================================================================================================================================================================================================================================================================================================================================================================================================================================================================================================================================================================================================================================================================================================================================================================================================================================================================================================================================================================================================================================================================================================================================================================================================================================================================================================================================================================================================================================================================================================================================================================================================================================================================================================================================================================================================================================================================================================================================================================================================================================================================================================================================================================================================================================================================================================================================================================================================================================================================================================================================================================================================================================================================================================================================================================================================================================================================================================================================================================================================================================================================================================================================================================================================================================================================================================================================================================================================================================================================================================================================================================================================================================================================================================================================================================================================================================================================================================================================================================================================================================================================================================================================================================================================================================================================================================================================================================================================================================================================================================================================================================================================================================================================================================================================================================================================================================================================================================================================================================================================================================================================================================================================================================================================================================================================================================================================================================================================================================================================================================================================================================================================================================================================================================================================================================================================================================================================================================================================================================================================================================================================================================================================================================================================================================================================================================================================================================================================================================================================================================================================================================================================================================================================================================================================================================================================================================================================================================================================================================================================================================================================================================================================================================================================================================================================================================================================================================================================================================================================================================================================================================================================================================================================================================================================================================================================================================================================================================================================================================================================================================================================================================================================================================================================================================================================================================================================================================================================================================================================================================================================================================================================================================================================================================================================================================================================================================================================================================================================================================================================================================================================================================================================================================================================================================================================================================================================================================================================================================================================================================================================================================================================================================================================================================================================================================================================================================================================================================================================================================================================================================================================================================================================================================================================================================================================================================================================================================================================================================================================================================================================================================================================================================================================================================================================================================================================================================================================================================================================================================================================================================================================================================================================================================================================================================================================================================================================================================================================================================================================================================================================================================================================================================================================================================================================================================================================================================================================================================================================================================================================================================================================================================================================================================================================================================================================================================================================================================================================================================================================================================================================================================================================================================================================================================================================================================================================================================================================================================================================================================================================================================================================================================================================================================================================================================================================================================================================================================================================================================================================================================================================================================================================================================================================================================================================================================================================================================================================================================================================================================================================================================================================================================================================================================================================================================================================================================================================================================================================================================================================================================================================================================================================================================================================================================================================================================================================================================================================================================================================================================================================================================================================================================================================================================================================================================================================================================================================================================================================================================================================================================================================================================================================================================================================================================================================================================================================================================================================================================================================================================================================================================================================================================================================================================================================================================================================================================================================================================================================================================================================================================================================================================================================================================================================================================================================================================================================================================================================================================================================================================================================================================================================================================================================================================================================================================================================================================================================================================================================================================================================================================================================================================================================================================================================================================================================================================================================================================================================================================================================================================================================================================================================================================================================================================================================================================================================================================================================================================================================================================================================================================================================================================================================================================================================================================================================================================================================================================================================================================================================================================================================================================================================================================================================================================================================================================================================================================================================================================================================================================================================================================================================================================================================================================================================================================================================================================================================================================================================================================================================================================================================================================================================================================================================================================================================================================================================================================================================================================================================================================================================================================================================================================================================================================================================================================================================================================================================================================================================================================================================================================================================================================================================================================================================================================================================================================================================================================================================================================================================================================================================================================================================================================================================================================================================================================================================================================================================================================================================================================================================================================================================================================================================================================================================================================================================================================================================================================================================================================================================================================================================================================================================================================================================================================================================================================================================================================================================================================================================================================================================================================================================================================================================================================================================================================================================================================================================================================================================================================================================================================================================================================================================================================================================================================================================================================================================================================================================================================================================================================================================================================================================================================================================================================================================================================================================================================================================================================================================================================================================================================================================================================================================================================================================================================================================================================================] - 45s 5ms/sample - loss: 0.5450 - accuracy: 0.8491\n",
            "[0.5222774617549231, 0.8490566]\n",
            "['loss', 'accuracy']\n"
          ],
          "name": "stdout"
        }
      ]
    },
    {
      "cell_type": "code",
      "metadata": {
        "id": "OMJGvzpBM-sC",
        "colab_type": "code",
        "colab": {}
      },
      "source": [
        "import matplotlib.pyplot as plt\n",
        "\n",
        "def plot(history):\n",
        "    hist = history.history\n",
        "    train_loss, train_acc = hist['loss'], hist['accuracy']\n",
        "    val_loss, val_acc = hist['val_loss'], hist['val_accuracy']\n",
        "    epochs = range(1, len(train_acc)+1)\n",
        "    \n",
        "    plt.plot(epochs, train_acc, 'g', label='Training acc')\n",
        "    plt.plot(epochs, val_acc, 'o', label='Validation acc')\n",
        "    plt.title('Training and validation accuracy')\n",
        "    plt.legend()\n",
        "    plt.figure()\n",
        "    plt.plot(epochs, train_loss, 'g', label='Training loss')\n",
        "    plt.plot(epochs, val_loss, 'o', label='Validation loss')\n",
        "    plt.title('Training and validation loss')\n",
        "    plt.legend()\n",
        "    plt.show()"
      ],
      "execution_count": 0,
      "outputs": []
    },
    {
      "cell_type": "code",
      "metadata": {
        "id": "ug0sUgmJTvy4",
        "colab_type": "code",
        "outputId": "f903f24d-c9ed-4b1b-c3f4-056d380ae077",
        "colab": {
          "base_uri": "https://localhost:8080/",
          "height": 545
        }
      },
      "source": [
        "plot(history)"
      ],
      "execution_count": 32,
      "outputs": [
        {
          "output_type": "display_data",
          "data": {
            "image/png": "[encoded data removed]",
            "text/plain": [
              "<Figure size 432x288 with 1 Axes>"
            ]
          },
          "metadata": {
            "tags": []
          }
        },
        {
          "output_type": "display_data",
          "data": {
            "image/png": "[encoded data removed]",
            "text/plain": [
              "<Figure size 432x288 with 1 Axes>"
            ]
          },
          "metadata": {
            "tags": []
          }
        }
      ]
    },
    {
      "cell_type": "code",
      "metadata": {
        "id": "IuXonysThn5X",
        "colab_type": "code",
        "outputId": "a0dcc6dc-f962-493d-f0a4-bfdfc031aa3a",
        "colab": {
          "base_uri": "https://localhost:8080/",
          "height": 85
        }
      },
      "source": [
        "sentence = [\"wednesday's morning email: what you missed last night in trump's state of the union\"]\n",
        "#sentence = [\"this is what it's really like out there for female superheroes\"]\n",
        "sentence_sequence = tokenizer.texts_to_sequences(sentence)\n",
        "sentence_padding = pad_sequences(sentence_sequence, maxlen=maxlen)\n",
        "prediction=model1.predict_classes(sentence_padding)\n",
        "predict=np.max(prediction)\n",
        "print(model1.predict(sentence_padding))\n",
        "print(len(prediction))\n",
        "print(predict)\n",
        "if predict==1:\n",
        "    print(\"real\")\n",
        "elif predict==0:\n",
        "    print(\"fake\")"
      ],
      "execution_count": 52,
      "outputs": [
        {
          "output_type": "stream",
          "text": [
            "[[0.03986823]]\n",
            "1\n",
            "0\n",
            "fake\n"
          ],
          "name": "stdout"
        }
      ]
    },
    {
      "cell_type": "code",
      "metadata": {
        "id": "fi9vYtgy2EHb",
        "colab_type": "code",
        "colab": {}
      },
      "source": [
        ""
      ],
      "execution_count": 0,
      "outputs": []
    }
  ]
}